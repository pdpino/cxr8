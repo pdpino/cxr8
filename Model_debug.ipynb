{
 "cells": [
  {
   "cell_type": "markdown",
   "metadata": {},
   "source": [
    "# Model debugging\n",
    "\n",
    "Debug file. Use `models/<versions>.py` to define the actual model architecture"
   ]
  },
  {
   "cell_type": "code",
   "execution_count": 1,
   "metadata": {},
   "outputs": [],
   "source": [
    "import torch\n",
    "import torch.nn as nn\n",
    "from torchvision import models"
   ]
  },
  {
   "cell_type": "code",
   "execution_count": 126,
   "metadata": {},
   "outputs": [],
   "source": [
    "%run models/v3.py"
   ]
  },
  {
   "cell_type": "code",
   "execution_count": 127,
   "metadata": {},
   "outputs": [],
   "source": [
    "model = ResnetBasedModel()\n",
    "_ = model.train(True)"
   ]
  },
  {
   "cell_type": "code",
   "execution_count": 128,
   "metadata": {},
   "outputs": [
    {
     "name": "stdout",
     "output_type": "stream",
     "text": [
      "Embedding:  torch.Size([4, 2048])\n",
      "Activation:  torch.Size([4, 14, 16, 16])\n",
      "Output:  torch.Size([4, 14])\n"
     ]
    }
   ],
   "source": [
    "n_samples = 4\n",
    "image_channels = 3\n",
    "image_width = 512\n",
    "image_height = 512\n",
    "\n",
    "image = torch.Tensor(n_samples, image_channels, image_height, image_width)\n",
    "y, embeddings, activations = model(image)\n",
    "\n",
    "print(\"Embedding: \", embeddings.size())\n",
    "print(\"Activation: \", activations.size())\n",
    "print(\"Output: \", y.size())"
   ]
  },
  {
   "cell_type": "code",
   "execution_count": 129,
   "metadata": {},
   "outputs": [
    {
     "data": {
      "text/plain": [
       "tensor(35.6496, grad_fn=<SumBackward0>)"
      ]
     },
     "execution_count": 129,
     "metadata": {},
     "output_type": "execute_result"
    }
   ],
   "source": [
    "loss = torch.sum(y)\n",
    "loss"
   ]
  },
  {
   "cell_type": "code",
   "execution_count": 130,
   "metadata": {},
   "outputs": [],
   "source": [
    "loss.backward()"
   ]
  },
  {
   "cell_type": "code",
   "execution_count": 131,
   "metadata": {},
   "outputs": [
    {
     "name": "stdout",
     "output_type": "stream",
     "text": [
      "heatmap:  torch.Size([4, 2048, 16, 16])\n",
      "AMOUNT OF GRADIENTS:  1\n"
     ]
    },
    {
     "data": {
      "text/plain": [
       "torch.Size([4, 16, 16])"
      ]
     },
     "execution_count": 131,
     "metadata": {},
     "output_type": "execute_result"
    }
   ],
   "source": [
    "result = model.forward_with_gradcam(image, 1)\n",
    "result.size()"
   ]
  },
  {
   "cell_type": "code",
   "execution_count": 132,
   "metadata": {},
   "outputs": [
    {
     "data": {
      "text/plain": [
       "tensor(940)"
      ]
     },
     "execution_count": 132,
     "metadata": {},
     "output_type": "execute_result"
    }
   ],
   "source": [
    "(result > 0).sum()"
   ]
  },
  {
   "cell_type": "code",
   "execution_count": 138,
   "metadata": {},
   "outputs": [
    {
     "data": {
      "text/plain": [
       "torch.Size([4, 16, 16])"
      ]
     },
     "execution_count": 138,
     "metadata": {},
     "output_type": "execute_result"
    }
   ],
   "source": [
    "activations[:, 0, :, :].size()"
   ]
  },
  {
   "cell_type": "code",
   "execution_count": 139,
   "metadata": {},
   "outputs": [
    {
     "data": {
      "text/plain": [
       "tensor([[[ 1.0049,  0.2576,  0.2416,  ..., -0.7908,  1.0698,  0.6669],\n",
       "         [ 0.8024,  0.1795,  0.0445,  ..., -0.6921,  0.3712, -0.0438],\n",
       "         [-0.3224, -0.2605,  0.5835,  ...,  0.0626,  0.9583,  0.7600],\n",
       "         ...,\n",
       "         [ 0.1553,  0.4223,  0.2587,  ...,  0.1661,  0.4013,  0.6798],\n",
       "         [-0.1085,  0.3219, -0.4453,  ..., -0.4077, -0.0961, -0.1096],\n",
       "         [ 0.3524,  0.5333, -0.4206,  ..., -0.6102, -0.4122, -0.4608]],\n",
       "\n",
       "        [[ 1.0049,  0.2576,  0.2416,  ..., -0.7908,  1.0698,  0.6669],\n",
       "         [ 0.8024,  0.1795,  0.0445,  ..., -0.6921,  0.3712, -0.0438],\n",
       "         [-0.3224, -0.2605,  0.5835,  ...,  0.0626,  0.9583,  0.7600],\n",
       "         ...,\n",
       "         [ 0.1553,  0.4223,  0.2587,  ...,  0.1661,  0.4013,  0.6798],\n",
       "         [-0.1085,  0.3219, -0.4453,  ..., -0.4077, -0.0961, -0.1096],\n",
       "         [ 0.3524,  0.5333, -0.4206,  ..., -0.6102, -0.4122, -0.4608]],\n",
       "\n",
       "        [[ 1.0049,  0.2576,  0.2416,  ..., -0.7908,  1.0698,  0.6669],\n",
       "         [ 0.8024,  0.1795,  0.0445,  ..., -0.6921,  0.3712, -0.0438],\n",
       "         [-0.3224, -0.2605,  0.5835,  ...,  0.0626,  0.9583,  0.7600],\n",
       "         ...,\n",
       "         [ 0.1553,  0.4223,  0.2587,  ...,  0.1661,  0.4013,  0.6798],\n",
       "         [-0.1085,  0.3219, -0.4453,  ..., -0.4077, -0.0961, -0.1096],\n",
       "         [ 0.3524,  0.5333, -0.4206,  ..., -0.6102, -0.4122, -0.4608]],\n",
       "\n",
       "        [[ 1.0049,  0.2576,  0.2416,  ..., -0.7908,  1.0698,  0.6669],\n",
       "         [ 0.8024,  0.1795,  0.0445,  ..., -0.6921,  0.3712, -0.0438],\n",
       "         [-0.3224, -0.2605,  0.5835,  ...,  0.0626,  0.9583,  0.7600],\n",
       "         ...,\n",
       "         [ 0.1553,  0.4223,  0.2587,  ...,  0.1661,  0.4013,  0.6798],\n",
       "         [-0.1085,  0.3219, -0.4453,  ..., -0.4077, -0.0961, -0.1096],\n",
       "         [ 0.3524,  0.5333, -0.4206,  ..., -0.6102, -0.4122, -0.4608]]],\n",
       "       grad_fn=<SliceBackward>)"
      ]
     },
     "execution_count": 139,
     "metadata": {},
     "output_type": "execute_result"
    }
   ],
   "source": [
    "activations[:, 0, :, :]"
   ]
  },
  {
   "cell_type": "code",
   "execution_count": 135,
   "metadata": {},
   "outputs": [
    {
     "data": {
      "text/plain": [
       "tensor([[[-4.1127e-04, -3.1338e-04, -2.6492e-04,  ..., -2.5139e-04,\n",
       "          -2.0279e-04, -1.5986e-04],\n",
       "         [ 1.1067e-05, -1.3445e-04, -1.2210e-05,  ...,  1.5464e-05,\n",
       "          -8.6622e-05, -3.9833e-06],\n",
       "         [ 5.7208e-05,  1.0448e-04,  1.3404e-04,  ...,  2.4679e-04,\n",
       "           2.0033e-04,  1.2104e-04],\n",
       "         ...,\n",
       "         [ 4.8094e-05,  5.1740e-05,  4.3456e-05,  ...,  7.8061e-05,\n",
       "           1.2996e-04,  4.7409e-05],\n",
       "         [ 2.4123e-05, -1.0610e-05,  5.0073e-06,  ...,  1.2996e-04,\n",
       "           1.3683e-04,  8.9548e-05],\n",
       "         [ 2.7741e-05,  6.9134e-05,  1.9296e-05,  ...,  1.1601e-04,\n",
       "           1.1424e-04,  1.0339e-04]],\n",
       "\n",
       "        [[-4.1127e-04, -3.1338e-04, -2.6492e-04,  ..., -2.5139e-04,\n",
       "          -2.0279e-04, -1.5986e-04],\n",
       "         [ 1.1067e-05, -1.3445e-04, -1.2210e-05,  ...,  1.5464e-05,\n",
       "          -8.6622e-05, -3.9833e-06],\n",
       "         [ 5.7208e-05,  1.0448e-04,  1.3404e-04,  ...,  2.4679e-04,\n",
       "           2.0033e-04,  1.2104e-04],\n",
       "         ...,\n",
       "         [ 4.8094e-05,  5.1740e-05,  4.3456e-05,  ...,  7.8061e-05,\n",
       "           1.2996e-04,  4.7409e-05],\n",
       "         [ 2.4123e-05, -1.0610e-05,  5.0073e-06,  ...,  1.2996e-04,\n",
       "           1.3683e-04,  8.9548e-05],\n",
       "         [ 2.7741e-05,  6.9134e-05,  1.9296e-05,  ...,  1.1601e-04,\n",
       "           1.1424e-04,  1.0339e-04]],\n",
       "\n",
       "        [[-4.1127e-04, -3.1338e-04, -2.6492e-04,  ..., -2.5139e-04,\n",
       "          -2.0279e-04, -1.5986e-04],\n",
       "         [ 1.1067e-05, -1.3445e-04, -1.2210e-05,  ...,  1.5464e-05,\n",
       "          -8.6622e-05, -3.9833e-06],\n",
       "         [ 5.7208e-05,  1.0448e-04,  1.3404e-04,  ...,  2.4679e-04,\n",
       "           2.0033e-04,  1.2104e-04],\n",
       "         ...,\n",
       "         [ 4.8094e-05,  5.1740e-05,  4.3456e-05,  ...,  7.8061e-05,\n",
       "           1.2996e-04,  4.7409e-05],\n",
       "         [ 2.4123e-05, -1.0610e-05,  5.0073e-06,  ...,  1.2996e-04,\n",
       "           1.3683e-04,  8.9548e-05],\n",
       "         [ 2.7741e-05,  6.9134e-05,  1.9296e-05,  ...,  1.1601e-04,\n",
       "           1.1424e-04,  1.0339e-04]],\n",
       "\n",
       "        [[-4.1127e-04, -3.1338e-04, -2.6492e-04,  ..., -2.5139e-04,\n",
       "          -2.0279e-04, -1.5986e-04],\n",
       "         [ 1.1067e-05, -1.3445e-04, -1.2210e-05,  ...,  1.5464e-05,\n",
       "          -8.6622e-05, -3.9833e-06],\n",
       "         [ 5.7208e-05,  1.0448e-04,  1.3404e-04,  ...,  2.4679e-04,\n",
       "           2.0033e-04,  1.2104e-04],\n",
       "         ...,\n",
       "         [ 4.8094e-05,  5.1740e-05,  4.3456e-05,  ...,  7.8061e-05,\n",
       "           1.2996e-04,  4.7409e-05],\n",
       "         [ 2.4123e-05, -1.0610e-05,  5.0073e-06,  ...,  1.2996e-04,\n",
       "           1.3683e-04,  8.9548e-05],\n",
       "         [ 2.7741e-05,  6.9134e-05,  1.9296e-05,  ...,  1.1601e-04,\n",
       "           1.1424e-04,  1.0339e-04]]], grad_fn=<CopySlices>)"
      ]
     },
     "execution_count": 135,
     "metadata": {},
     "output_type": "execute_result"
    }
   ],
   "source": [
    "result"
   ]
  },
  {
   "cell_type": "code",
   "execution_count": null,
   "metadata": {},
   "outputs": [],
   "source": []
  },
  {
   "cell_type": "code",
   "execution_count": null,
   "metadata": {},
   "outputs": [],
   "source": []
  },
  {
   "cell_type": "code",
   "execution_count": null,
   "metadata": {},
   "outputs": [],
   "source": []
  },
  {
   "cell_type": "code",
   "execution_count": null,
   "metadata": {},
   "outputs": [],
   "source": []
  },
  {
   "cell_type": "code",
   "execution_count": 31,
   "metadata": {},
   "outputs": [
    {
     "name": "stdout",
     "output_type": "stream",
     "text": [
      "0.weight torch.Size([14, 2048])\n",
      "0.bias torch.Size([14])\n"
     ]
    }
   ],
   "source": [
    "for name, param in model.prediction.named_parameters():\n",
    "    print(name, param.size())"
   ]
  },
  {
   "cell_type": "code",
   "execution_count": 32,
   "metadata": {},
   "outputs": [],
   "source": [
    "linear = getattr(model.prediction, \"0\")"
   ]
  },
  {
   "cell_type": "code",
   "execution_count": 35,
   "metadata": {},
   "outputs": [
    {
     "data": {
      "text/plain": [
       "torch.Size([14, 2048])"
      ]
     },
     "execution_count": 35,
     "metadata": {},
     "output_type": "execute_result"
    }
   ],
   "source": [
    "linear.weight.size()"
   ]
  },
  {
   "cell_type": "code",
   "execution_count": 36,
   "metadata": {},
   "outputs": [
    {
     "data": {
      "text/plain": [
       "torch.Size([14, 2048])"
      ]
     },
     "execution_count": 36,
     "metadata": {},
     "output_type": "execute_result"
    }
   ],
   "source": [
    "linear.weight.grad.size()"
   ]
  },
  {
   "cell_type": "code",
   "execution_count": null,
   "metadata": {},
   "outputs": [],
   "source": []
  },
  {
   "cell_type": "code",
   "execution_count": 42,
   "metadata": {},
   "outputs": [
    {
     "data": {
      "text/plain": [
       "MaxPool2d(kernel_size=16, stride=16, padding=0, dilation=1, ceil_mode=False)"
      ]
     },
     "execution_count": 42,
     "metadata": {},
     "output_type": "execute_result"
    }
   ],
   "source": [
    "pooling = getattr(model.global_pool, \"0\")\n",
    "pooling"
   ]
  },
  {
   "cell_type": "code",
   "execution_count": 49,
   "metadata": {
    "collapsed": true
   },
   "outputs": [
    {
     "data": {
      "text/plain": [
       "{'_backend': <torch.nn.backends.thnn.THNNFunctionBackend at 0x7fee05188240>,\n",
       " '_backward_hooks': OrderedDict(),\n",
       " '_buffers': OrderedDict(),\n",
       " '_forward_hooks': OrderedDict(),\n",
       " '_forward_pre_hooks': OrderedDict(),\n",
       " '_load_state_dict_pre_hooks': OrderedDict(),\n",
       " '_modules': OrderedDict(),\n",
       " '_parameters': OrderedDict(),\n",
       " '_state_dict_hooks': OrderedDict(),\n",
       " 'ceil_mode': False,\n",
       " 'dilation': 1,\n",
       " 'kernel_size': 16,\n",
       " 'padding': 0,\n",
       " 'return_indices': False,\n",
       " 'stride': 16,\n",
       " 'training': True}"
      ]
     },
     "execution_count": 49,
     "metadata": {},
     "output_type": "execute_result"
    }
   ],
   "source": [
    "pooling.__dict__"
   ]
  },
  {
   "cell_type": "code",
   "execution_count": 70,
   "metadata": {},
   "outputs": [
    {
     "data": {
      "text/plain": [
       "Sequential(\n",
       "  (0): Bottleneck(\n",
       "    (conv1): Conv2d(1024, 512, kernel_size=(1, 1), stride=(1, 1), bias=False)\n",
       "    (bn1): BatchNorm2d(512, eps=1e-05, momentum=0.1, affine=True, track_running_stats=True)\n",
       "    (conv2): Conv2d(512, 512, kernel_size=(3, 3), stride=(2, 2), padding=(1, 1), bias=False)\n",
       "    (bn2): BatchNorm2d(512, eps=1e-05, momentum=0.1, affine=True, track_running_stats=True)\n",
       "    (conv3): Conv2d(512, 2048, kernel_size=(1, 1), stride=(1, 1), bias=False)\n",
       "    (bn3): BatchNorm2d(2048, eps=1e-05, momentum=0.1, affine=True, track_running_stats=True)\n",
       "    (relu): ReLU(inplace)\n",
       "    (downsample): Sequential(\n",
       "      (0): Conv2d(1024, 2048, kernel_size=(1, 1), stride=(2, 2), bias=False)\n",
       "      (1): BatchNorm2d(2048, eps=1e-05, momentum=0.1, affine=True, track_running_stats=True)\n",
       "    )\n",
       "  )\n",
       "  (1): Bottleneck(\n",
       "    (conv1): Conv2d(2048, 512, kernel_size=(1, 1), stride=(1, 1), bias=False)\n",
       "    (bn1): BatchNorm2d(512, eps=1e-05, momentum=0.1, affine=True, track_running_stats=True)\n",
       "    (conv2): Conv2d(512, 512, kernel_size=(3, 3), stride=(1, 1), padding=(1, 1), bias=False)\n",
       "    (bn2): BatchNorm2d(512, eps=1e-05, momentum=0.1, affine=True, track_running_stats=True)\n",
       "    (conv3): Conv2d(512, 2048, kernel_size=(1, 1), stride=(1, 1), bias=False)\n",
       "    (bn3): BatchNorm2d(2048, eps=1e-05, momentum=0.1, affine=True, track_running_stats=True)\n",
       "    (relu): ReLU(inplace)\n",
       "  )\n",
       "  (2): Bottleneck(\n",
       "    (conv1): Conv2d(2048, 512, kernel_size=(1, 1), stride=(1, 1), bias=False)\n",
       "    (bn1): BatchNorm2d(512, eps=1e-05, momentum=0.1, affine=True, track_running_stats=True)\n",
       "    (conv2): Conv2d(512, 512, kernel_size=(3, 3), stride=(1, 1), padding=(1, 1), bias=False)\n",
       "    (bn2): BatchNorm2d(512, eps=1e-05, momentum=0.1, affine=True, track_running_stats=True)\n",
       "    (conv3): Conv2d(512, 2048, kernel_size=(1, 1), stride=(1, 1), bias=False)\n",
       "    (bn3): BatchNorm2d(2048, eps=1e-05, momentum=0.1, affine=True, track_running_stats=True)\n",
       "    (relu): ReLU(inplace)\n",
       "  )\n",
       ")"
      ]
     },
     "execution_count": 70,
     "metadata": {},
     "output_type": "execute_result"
    }
   ],
   "source": [
    "model.model_ft.layer4"
   ]
  },
  {
   "cell_type": "code",
   "execution_count": 71,
   "metadata": {},
   "outputs": [
    {
     "data": {
      "text/plain": [
       "Bottleneck(\n",
       "  (conv1): Conv2d(2048, 512, kernel_size=(1, 1), stride=(1, 1), bias=False)\n",
       "  (bn1): BatchNorm2d(512, eps=1e-05, momentum=0.1, affine=True, track_running_stats=True)\n",
       "  (conv2): Conv2d(512, 512, kernel_size=(3, 3), stride=(1, 1), padding=(1, 1), bias=False)\n",
       "  (bn2): BatchNorm2d(512, eps=1e-05, momentum=0.1, affine=True, track_running_stats=True)\n",
       "  (conv3): Conv2d(512, 2048, kernel_size=(1, 1), stride=(1, 1), bias=False)\n",
       "  (bn3): BatchNorm2d(2048, eps=1e-05, momentum=0.1, affine=True, track_running_stats=True)\n",
       "  (relu): ReLU(inplace)\n",
       ")"
      ]
     },
     "execution_count": 71,
     "metadata": {},
     "output_type": "execute_result"
    }
   ],
   "source": [
    "last_bottleneck = getattr(model.model_ft.layer4, \"2\")\n",
    "last_bottleneck"
   ]
  },
  {
   "cell_type": "code",
   "execution_count": 77,
   "metadata": {},
   "outputs": [
    {
     "ename": "AttributeError",
     "evalue": "'ReLU' object has no attribute 'register_hook'",
     "output_type": "error",
     "traceback": [
      "\u001b[0;31m-------------------------------------------------------\u001b[0m",
      "\u001b[0;31mAttributeError\u001b[0m        Traceback (most recent call last)",
      "\u001b[0;32m<ipython-input-77-21055894fea3>\u001b[0m in \u001b[0;36m<module>\u001b[0;34m\u001b[0m\n\u001b[0;32m----> 1\u001b[0;31m \u001b[0mlast_bottleneck\u001b[0m\u001b[0;34m.\u001b[0m\u001b[0mrelu\u001b[0m\u001b[0;34m.\u001b[0m\u001b[0mregister_hook\u001b[0m\u001b[0;34m\u001b[0m\u001b[0m\n\u001b[0m",
      "\u001b[0;32m~/cxr8/pyenv/lib/python3.5/site-packages/torch/nn/modules/module.py\u001b[0m in \u001b[0;36m__getattr__\u001b[0;34m(self, name)\u001b[0m\n\u001b[1;32m    537\u001b[0m                 \u001b[0;32mreturn\u001b[0m \u001b[0mmodules\u001b[0m\u001b[0;34m[\u001b[0m\u001b[0mname\u001b[0m\u001b[0;34m]\u001b[0m\u001b[0;34m\u001b[0m\u001b[0m\n\u001b[1;32m    538\u001b[0m         raise AttributeError(\"'{}' object has no attribute '{}'\".format(\n\u001b[0;32m--> 539\u001b[0;31m             type(self).__name__, name))\n\u001b[0m\u001b[1;32m    540\u001b[0m \u001b[0;34m\u001b[0m\u001b[0m\n\u001b[1;32m    541\u001b[0m     \u001b[0;32mdef\u001b[0m \u001b[0m__setattr__\u001b[0m\u001b[0;34m(\u001b[0m\u001b[0mself\u001b[0m\u001b[0;34m,\u001b[0m \u001b[0mname\u001b[0m\u001b[0;34m,\u001b[0m \u001b[0mvalue\u001b[0m\u001b[0;34m)\u001b[0m\u001b[0;34m:\u001b[0m\u001b[0;34m\u001b[0m\u001b[0m\n",
      "\u001b[0;31mAttributeError\u001b[0m: 'ReLU' object has no attribute 'register_hook'"
     ]
    }
   ],
   "source": [
    "last_bottleneck.relu.register_hook"
   ]
  },
  {
   "cell_type": "code",
   "execution_count": 69,
   "metadata": {},
   "outputs": [
    {
     "data": {
      "text/plain": [
       "<bound method Tensor.register_hook of Parameter containing:\n",
       "tensor([0.2392, 0.2747, 0.2593,  ..., 0.1803, 0.2701, 0.2526])>"
      ]
     },
     "execution_count": 69,
     "metadata": {},
     "output_type": "execute_result"
    }
   ],
   "source": [
    "getattr(last_bottleneck.downsample, \"1\").weight.register_hook()"
   ]
  },
  {
   "cell_type": "code",
   "execution_count": 57,
   "metadata": {},
   "outputs": [
    {
     "ename": "AttributeError",
     "evalue": "'Bottleneck' object has no attribute 'grad'",
     "output_type": "error",
     "traceback": [
      "\u001b[0;31m-------------------------------------------------------\u001b[0m",
      "\u001b[0;31mAttributeError\u001b[0m        Traceback (most recent call last)",
      "\u001b[0;32m<ipython-input-57-59bbb1faaa4b>\u001b[0m in \u001b[0;36m<module>\u001b[0;34m\u001b[0m\n\u001b[0;32m----> 1\u001b[0;31m \u001b[0mlast_bottleneck\u001b[0m\u001b[0;34m.\u001b[0m\u001b[0mgrad\u001b[0m\u001b[0;34m\u001b[0m\u001b[0m\n\u001b[0m",
      "\u001b[0;32m~/cxr8/pyenv/lib/python3.5/site-packages/torch/nn/modules/module.py\u001b[0m in \u001b[0;36m__getattr__\u001b[0;34m(self, name)\u001b[0m\n\u001b[1;32m    537\u001b[0m                 \u001b[0;32mreturn\u001b[0m \u001b[0mmodules\u001b[0m\u001b[0;34m[\u001b[0m\u001b[0mname\u001b[0m\u001b[0;34m]\u001b[0m\u001b[0;34m\u001b[0m\u001b[0m\n\u001b[1;32m    538\u001b[0m         raise AttributeError(\"'{}' object has no attribute '{}'\".format(\n\u001b[0;32m--> 539\u001b[0;31m             type(self).__name__, name))\n\u001b[0m\u001b[1;32m    540\u001b[0m \u001b[0;34m\u001b[0m\u001b[0m\n\u001b[1;32m    541\u001b[0m     \u001b[0;32mdef\u001b[0m \u001b[0m__setattr__\u001b[0m\u001b[0;34m(\u001b[0m\u001b[0mself\u001b[0m\u001b[0;34m,\u001b[0m \u001b[0mname\u001b[0m\u001b[0;34m,\u001b[0m \u001b[0mvalue\u001b[0m\u001b[0;34m)\u001b[0m\u001b[0;34m:\u001b[0m\u001b[0;34m\u001b[0m\u001b[0m\n",
      "\u001b[0;31mAttributeError\u001b[0m: 'Bottleneck' object has no attribute 'grad'"
     ]
    }
   ],
   "source": [
    "last_bottleneck.grad"
   ]
  }
 ],
 "metadata": {
  "kernelspec": {
   "display_name": "Python 3",
   "language": "python",
   "name": "python3"
  },
  "language_info": {
   "codemirror_mode": {
    "name": "ipython",
    "version": 3
   },
   "file_extension": ".py",
   "mimetype": "text/x-python",
   "name": "python",
   "nbconvert_exporter": "python",
   "pygments_lexer": "ipython3",
   "version": "3.5.2"
  }
 },
 "nbformat": 4,
 "nbformat_minor": 2
}
