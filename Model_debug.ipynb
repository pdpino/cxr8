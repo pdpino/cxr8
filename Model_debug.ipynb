{
 "cells": [
  {
   "cell_type": "markdown",
   "metadata": {},
   "source": [
    "# Model debugging\n",
    "\n",
    "Debug file. Use `models/<versions>.py` to define the actual model architecture"
   ]
  },
  {
   "cell_type": "code",
   "execution_count": 1,
   "metadata": {},
   "outputs": [],
   "source": [
    "import torch\n",
    "import torch.nn as nn\n",
    "from torchvision import models"
   ]
  },
  {
   "cell_type": "code",
   "execution_count": 83,
   "metadata": {},
   "outputs": [],
   "source": [
    "%run models/v3.py"
   ]
  },
  {
   "cell_type": "code",
   "execution_count": 84,
   "metadata": {},
   "outputs": [],
   "source": [
    "model = ResnetBasedModel()"
   ]
  },
  {
   "cell_type": "code",
   "execution_count": 85,
   "metadata": {},
   "outputs": [
    {
     "name": "stdout",
     "output_type": "stream",
     "text": [
      "After resnet:  torch.Size([4, 2048, 16, 16])\n",
      "After global pool:  torch.Size([4, 2048, 1, 1])\n",
      "After view:  torch.Size([4, 2048])\n",
      "Embedding:  torch.Size([4, 2048])\n",
      "Activation:  torch.Size([4, 14, 16, 16])\n",
      "Output:  torch.Size([4, 14])\n"
     ]
    }
   ],
   "source": [
    "n_samples = 4\n",
    "image_channels = 3\n",
    "image_width = 512\n",
    "image_height = 512\n",
    "\n",
    "image = torch.Tensor(n_samples, image_channels, image_height, image_width)\n",
    "y, embeddings, activations = model(image)\n",
    "\n",
    "print(\"Embedding: \", embeddings.size())\n",
    "print(\"Activation: \", activations.size())\n",
    "print(\"Output: \", y.size())"
   ]
  },
  {
   "cell_type": "code",
   "execution_count": null,
   "metadata": {},
   "outputs": [],
   "source": []
  },
  {
   "cell_type": "code",
   "execution_count": null,
   "metadata": {},
   "outputs": [],
   "source": []
  },
  {
   "cell_type": "code",
   "execution_count": null,
   "metadata": {},
   "outputs": [],
   "source": []
  },
  {
   "cell_type": "code",
   "execution_count": null,
   "metadata": {},
   "outputs": [],
   "source": []
  }
 ],
 "metadata": {
  "kernelspec": {
   "display_name": "Python 3",
   "language": "python",
   "name": "python3"
  },
  "language_info": {
   "codemirror_mode": {
    "name": "ipython",
    "version": 3
   },
   "file_extension": ".py",
   "mimetype": "text/x-python",
   "name": "python",
   "nbconvert_exporter": "python",
   "pygments_lexer": "ipython3",
   "version": "3.5.2"
  }
 },
 "nbformat": 4,
 "nbformat_minor": 2
}
