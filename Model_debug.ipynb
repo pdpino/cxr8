{
 "cells": [
  {
   "cell_type": "markdown",
   "metadata": {},
   "source": [
    "# Model debugging\n",
    "\n",
    "Debug file. Use `models/<versions>.py` to define the actual model architecture"
   ]
  },
  {
   "cell_type": "code",
   "execution_count": 1,
   "metadata": {},
   "outputs": [],
   "source": [
    "import torch\n",
    "import torch.nn as nn\n",
    "from torchvision import models"
   ]
  },
  {
   "cell_type": "markdown",
   "metadata": {},
   "source": [
    "### Debug Resnet based"
   ]
  },
  {
   "cell_type": "code",
   "execution_count": 126,
   "metadata": {},
   "outputs": [],
   "source": [
    "%run models/v3.py"
   ]
  },
  {
   "cell_type": "code",
   "execution_count": 127,
   "metadata": {},
   "outputs": [],
   "source": [
    "model = ResnetBasedModel()\n",
    "_ = model.train(True)"
   ]
  },
  {
   "cell_type": "code",
   "execution_count": 128,
   "metadata": {},
   "outputs": [
    {
     "name": "stdout",
     "output_type": "stream",
     "text": [
      "Embedding:  torch.Size([4, 2048])\n",
      "Activation:  torch.Size([4, 14, 16, 16])\n",
      "Output:  torch.Size([4, 14])\n"
     ]
    }
   ],
   "source": [
    "n_samples = 4\n",
    "image_channels = 3\n",
    "image_width = 512\n",
    "image_height = 512\n",
    "\n",
    "image = torch.Tensor(n_samples, image_channels, image_height, image_width)\n",
    "y, embeddings, activations = model(image)\n",
    "\n",
    "print(\"Embedding: \", embeddings.size())\n",
    "print(\"Activation: \", activations.size())\n",
    "print(\"Output: \", y.size())"
   ]
  },
  {
   "cell_type": "code",
   "execution_count": 129,
   "metadata": {},
   "outputs": [
    {
     "data": {
      "text/plain": [
       "tensor(35.6496, grad_fn=<SumBackward0>)"
      ]
     },
     "execution_count": 129,
     "metadata": {},
     "output_type": "execute_result"
    }
   ],
   "source": [
    "loss = torch.sum(y)\n",
    "loss"
   ]
  },
  {
   "cell_type": "code",
   "execution_count": 130,
   "metadata": {},
   "outputs": [],
   "source": [
    "loss.backward()"
   ]
  },
  {
   "cell_type": "code",
   "execution_count": 131,
   "metadata": {},
   "outputs": [
    {
     "name": "stdout",
     "output_type": "stream",
     "text": [
      "heatmap:  torch.Size([4, 2048, 16, 16])\n",
      "AMOUNT OF GRADIENTS:  1\n"
     ]
    },
    {
     "data": {
      "text/plain": [
       "torch.Size([4, 16, 16])"
      ]
     },
     "execution_count": 131,
     "metadata": {},
     "output_type": "execute_result"
    }
   ],
   "source": [
    "result = model.forward_with_gradcam(image, 1)\n",
    "result.size()"
   ]
  },
  {
   "cell_type": "code",
   "execution_count": 132,
   "metadata": {},
   "outputs": [
    {
     "data": {
      "text/plain": [
       "tensor(940)"
      ]
     },
     "execution_count": 132,
     "metadata": {},
     "output_type": "execute_result"
    }
   ],
   "source": [
    "(result > 0).sum()"
   ]
  },
  {
   "cell_type": "code",
   "execution_count": 138,
   "metadata": {},
   "outputs": [
    {
     "data": {
      "text/plain": [
       "torch.Size([4, 16, 16])"
      ]
     },
     "execution_count": 138,
     "metadata": {},
     "output_type": "execute_result"
    }
   ],
   "source": [
    "activations[:, 0, :, :].size()"
   ]
  },
  {
   "cell_type": "code",
   "execution_count": 139,
   "metadata": {},
   "outputs": [
    {
     "data": {
      "text/plain": [
       "tensor([[[ 1.0049,  0.2576,  0.2416,  ..., -0.7908,  1.0698,  0.6669],\n",
       "         [ 0.8024,  0.1795,  0.0445,  ..., -0.6921,  0.3712, -0.0438],\n",
       "         [-0.3224, -0.2605,  0.5835,  ...,  0.0626,  0.9583,  0.7600],\n",
       "         ...,\n",
       "         [ 0.1553,  0.4223,  0.2587,  ...,  0.1661,  0.4013,  0.6798],\n",
       "         [-0.1085,  0.3219, -0.4453,  ..., -0.4077, -0.0961, -0.1096],\n",
       "         [ 0.3524,  0.5333, -0.4206,  ..., -0.6102, -0.4122, -0.4608]],\n",
       "\n",
       "        [[ 1.0049,  0.2576,  0.2416,  ..., -0.7908,  1.0698,  0.6669],\n",
       "         [ 0.8024,  0.1795,  0.0445,  ..., -0.6921,  0.3712, -0.0438],\n",
       "         [-0.3224, -0.2605,  0.5835,  ...,  0.0626,  0.9583,  0.7600],\n",
       "         ...,\n",
       "         [ 0.1553,  0.4223,  0.2587,  ...,  0.1661,  0.4013,  0.6798],\n",
       "         [-0.1085,  0.3219, -0.4453,  ..., -0.4077, -0.0961, -0.1096],\n",
       "         [ 0.3524,  0.5333, -0.4206,  ..., -0.6102, -0.4122, -0.4608]],\n",
       "\n",
       "        [[ 1.0049,  0.2576,  0.2416,  ..., -0.7908,  1.0698,  0.6669],\n",
       "         [ 0.8024,  0.1795,  0.0445,  ..., -0.6921,  0.3712, -0.0438],\n",
       "         [-0.3224, -0.2605,  0.5835,  ...,  0.0626,  0.9583,  0.7600],\n",
       "         ...,\n",
       "         [ 0.1553,  0.4223,  0.2587,  ...,  0.1661,  0.4013,  0.6798],\n",
       "         [-0.1085,  0.3219, -0.4453,  ..., -0.4077, -0.0961, -0.1096],\n",
       "         [ 0.3524,  0.5333, -0.4206,  ..., -0.6102, -0.4122, -0.4608]],\n",
       "\n",
       "        [[ 1.0049,  0.2576,  0.2416,  ..., -0.7908,  1.0698,  0.6669],\n",
       "         [ 0.8024,  0.1795,  0.0445,  ..., -0.6921,  0.3712, -0.0438],\n",
       "         [-0.3224, -0.2605,  0.5835,  ...,  0.0626,  0.9583,  0.7600],\n",
       "         ...,\n",
       "         [ 0.1553,  0.4223,  0.2587,  ...,  0.1661,  0.4013,  0.6798],\n",
       "         [-0.1085,  0.3219, -0.4453,  ..., -0.4077, -0.0961, -0.1096],\n",
       "         [ 0.3524,  0.5333, -0.4206,  ..., -0.6102, -0.4122, -0.4608]]],\n",
       "       grad_fn=<SliceBackward>)"
      ]
     },
     "execution_count": 139,
     "metadata": {},
     "output_type": "execute_result"
    }
   ],
   "source": [
    "activations[:, 0, :, :]"
   ]
  },
  {
   "cell_type": "code",
   "execution_count": 135,
   "metadata": {},
   "outputs": [
    {
     "data": {
      "text/plain": [
       "tensor([[[-4.1127e-04, -3.1338e-04, -2.6492e-04,  ..., -2.5139e-04,\n",
       "          -2.0279e-04, -1.5986e-04],\n",
       "         [ 1.1067e-05, -1.3445e-04, -1.2210e-05,  ...,  1.5464e-05,\n",
       "          -8.6622e-05, -3.9833e-06],\n",
       "         [ 5.7208e-05,  1.0448e-04,  1.3404e-04,  ...,  2.4679e-04,\n",
       "           2.0033e-04,  1.2104e-04],\n",
       "         ...,\n",
       "         [ 4.8094e-05,  5.1740e-05,  4.3456e-05,  ...,  7.8061e-05,\n",
       "           1.2996e-04,  4.7409e-05],\n",
       "         [ 2.4123e-05, -1.0610e-05,  5.0073e-06,  ...,  1.2996e-04,\n",
       "           1.3683e-04,  8.9548e-05],\n",
       "         [ 2.7741e-05,  6.9134e-05,  1.9296e-05,  ...,  1.1601e-04,\n",
       "           1.1424e-04,  1.0339e-04]],\n",
       "\n",
       "        [[-4.1127e-04, -3.1338e-04, -2.6492e-04,  ..., -2.5139e-04,\n",
       "          -2.0279e-04, -1.5986e-04],\n",
       "         [ 1.1067e-05, -1.3445e-04, -1.2210e-05,  ...,  1.5464e-05,\n",
       "          -8.6622e-05, -3.9833e-06],\n",
       "         [ 5.7208e-05,  1.0448e-04,  1.3404e-04,  ...,  2.4679e-04,\n",
       "           2.0033e-04,  1.2104e-04],\n",
       "         ...,\n",
       "         [ 4.8094e-05,  5.1740e-05,  4.3456e-05,  ...,  7.8061e-05,\n",
       "           1.2996e-04,  4.7409e-05],\n",
       "         [ 2.4123e-05, -1.0610e-05,  5.0073e-06,  ...,  1.2996e-04,\n",
       "           1.3683e-04,  8.9548e-05],\n",
       "         [ 2.7741e-05,  6.9134e-05,  1.9296e-05,  ...,  1.1601e-04,\n",
       "           1.1424e-04,  1.0339e-04]],\n",
       "\n",
       "        [[-4.1127e-04, -3.1338e-04, -2.6492e-04,  ..., -2.5139e-04,\n",
       "          -2.0279e-04, -1.5986e-04],\n",
       "         [ 1.1067e-05, -1.3445e-04, -1.2210e-05,  ...,  1.5464e-05,\n",
       "          -8.6622e-05, -3.9833e-06],\n",
       "         [ 5.7208e-05,  1.0448e-04,  1.3404e-04,  ...,  2.4679e-04,\n",
       "           2.0033e-04,  1.2104e-04],\n",
       "         ...,\n",
       "         [ 4.8094e-05,  5.1740e-05,  4.3456e-05,  ...,  7.8061e-05,\n",
       "           1.2996e-04,  4.7409e-05],\n",
       "         [ 2.4123e-05, -1.0610e-05,  5.0073e-06,  ...,  1.2996e-04,\n",
       "           1.3683e-04,  8.9548e-05],\n",
       "         [ 2.7741e-05,  6.9134e-05,  1.9296e-05,  ...,  1.1601e-04,\n",
       "           1.1424e-04,  1.0339e-04]],\n",
       "\n",
       "        [[-4.1127e-04, -3.1338e-04, -2.6492e-04,  ..., -2.5139e-04,\n",
       "          -2.0279e-04, -1.5986e-04],\n",
       "         [ 1.1067e-05, -1.3445e-04, -1.2210e-05,  ...,  1.5464e-05,\n",
       "          -8.6622e-05, -3.9833e-06],\n",
       "         [ 5.7208e-05,  1.0448e-04,  1.3404e-04,  ...,  2.4679e-04,\n",
       "           2.0033e-04,  1.2104e-04],\n",
       "         ...,\n",
       "         [ 4.8094e-05,  5.1740e-05,  4.3456e-05,  ...,  7.8061e-05,\n",
       "           1.2996e-04,  4.7409e-05],\n",
       "         [ 2.4123e-05, -1.0610e-05,  5.0073e-06,  ...,  1.2996e-04,\n",
       "           1.3683e-04,  8.9548e-05],\n",
       "         [ 2.7741e-05,  6.9134e-05,  1.9296e-05,  ...,  1.1601e-04,\n",
       "           1.1424e-04,  1.0339e-04]]], grad_fn=<CopySlices>)"
      ]
     },
     "execution_count": 135,
     "metadata": {},
     "output_type": "execute_result"
    }
   ],
   "source": [
    "result"
   ]
  },
  {
   "cell_type": "code",
   "execution_count": null,
   "metadata": {},
   "outputs": [],
   "source": []
  },
  {
   "cell_type": "code",
   "execution_count": null,
   "metadata": {},
   "outputs": [],
   "source": []
  },
  {
   "cell_type": "code",
   "execution_count": null,
   "metadata": {},
   "outputs": [],
   "source": []
  },
  {
   "cell_type": "markdown",
   "metadata": {},
   "source": [
    "### Debug Densenet based"
   ]
  },
  {
   "cell_type": "code",
   "execution_count": 8,
   "metadata": {},
   "outputs": [],
   "source": [
    "from torchvision import models"
   ]
  },
  {
   "cell_type": "code",
   "execution_count": 9,
   "metadata": {},
   "outputs": [],
   "source": [
    "%run models/v4.py"
   ]
  },
  {
   "cell_type": "code",
   "execution_count": 10,
   "metadata": {},
   "outputs": [],
   "source": [
    "model = DensenetBasedModel(train_resnet=True).to('cuda')"
   ]
  },
  {
   "cell_type": "code",
   "execution_count": 2,
   "metadata": {},
   "outputs": [],
   "source": [
    "model = models.densenet121(pretrained=True).to('cuda')"
   ]
  },
  {
   "cell_type": "code",
   "execution_count": 12,
   "metadata": {},
   "outputs": [
    {
     "name": "stdout",
     "output_type": "stream",
     "text": [
      "Output:  torch.Size([4, 14])\n",
      "Emb:  torch.Size([4, 1024])\n"
     ]
    }
   ],
   "source": [
    "n_samples = 4\n",
    "image_channels = 3\n",
    "image_width = 512\n",
    "image_height = 512\n",
    "\n",
    "image = torch.Tensor(n_samples, image_channels, image_height, image_width).to('cuda')\n",
    "y, embedding, _ = model(image)\n",
    "\n",
    "print(\"Output: \", y.size())\n",
    "print(\"Emb: \", embedding.size())"
   ]
  },
  {
   "cell_type": "code",
   "execution_count": null,
   "metadata": {},
   "outputs": [],
   "source": []
  }
 ],
 "metadata": {
  "kernelspec": {
   "display_name": "Python 3",
   "language": "python",
   "name": "python3"
  },
  "language_info": {
   "codemirror_mode": {
    "name": "ipython",
    "version": 3
   },
   "file_extension": ".py",
   "mimetype": "text/x-python",
   "name": "python",
   "nbconvert_exporter": "python",
   "pygments_lexer": "ipython3",
   "version": "3.5.2"
  }
 },
 "nbformat": 4,
 "nbformat_minor": 2
}
