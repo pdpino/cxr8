{
 "cells": [
  {
   "cell_type": "markdown",
   "metadata": {},
   "source": [
    "## Imports"
   ]
  },
  {
   "cell_type": "code",
   "execution_count": 1,
   "metadata": {},
   "outputs": [],
   "source": [
    "%run -n train.py"
   ]
  },
  {
   "cell_type": "code",
   "execution_count": 2,
   "metadata": {},
   "outputs": [],
   "source": [
    "%run models/__init__.py"
   ]
  },
  {
   "cell_type": "code",
   "execution_count": 3,
   "metadata": {},
   "outputs": [],
   "source": [
    "%run utils.py"
   ]
  },
  {
   "cell_type": "code",
   "execution_count": 4,
   "metadata": {},
   "outputs": [],
   "source": [
    "%run utilsT.py"
   ]
  },
  {
   "cell_type": "code",
   "execution_count": 5,
   "metadata": {},
   "outputs": [
    {
     "data": {
      "text/plain": [
       "device(type='cuda')"
      ]
     },
     "execution_count": 5,
     "metadata": {},
     "output_type": "execute_result"
    }
   ],
   "source": [
    "device = get_torch_device()\n",
    "device"
   ]
  },
  {
   "cell_type": "code",
   "execution_count": 5,
   "metadata": {},
   "outputs": [],
   "source": [
    "# In server\n",
    "BASE_DIR = '/mnt/data/chest-x-ray-8'\n",
    "DATASET_DIR = BASE_DIR + \"/dataset\"\n",
    "CMS_DIR = BASE_DIR + \"/cms\""
   ]
  },
  {
   "cell_type": "markdown",
   "metadata": {},
   "source": [
    "## Params"
   ]
  },
  {
   "cell_type": "code",
   "execution_count": 7,
   "metadata": {},
   "outputs": [],
   "source": [
    "TRAIN_RESNET = False\n",
    "N_EPOCHS = 2\n",
    "BATCH_SIZE = 5\n",
    "FLUSH_SECS = 10 # Use a low value when debugging\n",
    "\n",
    "# Use None to unset the maximum\n",
    "train_max_images = 100 # None\n",
    "val_max_images = 100 # None # 2000 # None"
   ]
  },
  {
   "cell_type": "code",
   "execution_count": 8,
   "metadata": {},
   "outputs": [],
   "source": [
    "learning_rate = 1e-6\n",
    "optimizer_moment = 0.9\n",
    "weight_decay = 1"
   ]
  },
  {
   "cell_type": "code",
   "execution_count": 9,
   "metadata": {},
   "outputs": [
    {
     "data": {
      "text/plain": [
       "['Atelectasis',\n",
       " 'Cardiomegaly',\n",
       " 'Effusion',\n",
       " 'Infiltration',\n",
       " 'Mass',\n",
       " 'Nodule',\n",
       " 'Pneumonia',\n",
       " 'Pneumothorax',\n",
       " 'Consolidation',\n",
       " 'Edema',\n",
       " 'Emphysema',\n",
       " 'Fibrosis',\n",
       " 'Pleural_Thickening',\n",
       " 'Hernia']"
      ]
     },
     "execution_count": 9,
     "metadata": {},
     "output_type": "execute_result"
    }
   ],
   "source": [
    "chosen_diseases = list(ALL_DISEASES)\n",
    "# chosen_diseases = ALL_DISEASES[1:2]\n",
    "chosen_diseases"
   ]
  },
  {
   "cell_type": "markdown",
   "metadata": {},
   "source": [
    "## Train"
   ]
  },
  {
   "cell_type": "code",
   "execution_count": 10,
   "metadata": {},
   "outputs": [],
   "source": [
    "opt_params = {\n",
    "    \"lr\": learning_rate,\n",
    "    # \"momentum\": optimizer_moment,\n",
    "    \"weight_decay\": weight_decay,\n",
    "}"
   ]
  },
  {
   "cell_type": "code",
   "execution_count": 11,
   "metadata": {},
   "outputs": [],
   "source": [
    "%run -n train.py"
   ]
  },
  {
   "cell_type": "code",
   "execution_count": 12,
   "metadata": {},
   "outputs": [],
   "source": [
    "# resume_run = \"1108_145909_resnet_all\" # \"\"\n",
    "# resume_run = \"\"\n",
    "resume_run = \"debug/1112_164849_all\""
   ]
  },
  {
   "cell_type": "code",
   "execution_count": 13,
   "metadata": {},
   "outputs": [
    {
     "name": "stdout",
     "output_type": "stream",
     "text": [
      "Using device:  cuda\n",
      "Loading train dataset...\n",
      "Loading val dataset...\n",
      "Chosen diseases:  ['Edema', 'Infiltration', 'Emphysema', 'Hernia', 'Atelectasis', 'Fibrosis', 'Pneumothorax', 'Pleural_Thickening', 'Consolidation', 'Effusion', 'Pneumonia', 'Mass', 'Nodule', 'Cardiomegaly']\n",
      "Run name:  1112_165125_all\n",
      "Saved TB in:  /mnt/data/chest-x-ray-8/runs/debug/1112_165125_all\n",
      "HPARAM:  {'opt_weight_decay': 1, 'train_resnet': False, 'opt': 'adam', 'opt_lr': 1e-06, 'resume': 'debug/1112_164849_all', 'batch_size': 5, 'model_name': 'v1', 'n_diseases': 14, 'diseases': 'Edema,Pneumonia,Infiltration,Mass,Nodule,Atelectasis,Cardiomegaly,Consolidation,Fibrosis,Pleural_Thickening,Pneumothorax,Effusion,Emphysema,Hernia', 'samples (train, val)': '100,100', 'loss': 'wbce', 'shuffle': True, 'n_epochs': 2}\n",
      "--------------------------------------------------\n",
      "Training...\n",
      "Finished epoch 1/2, loss 104.12142181396484 (val 98.85968017578125)\n",
      "Finished epoch 2/2, loss 93.70399475097656 (val 90.11981964111328)\n",
      "Average time per epoch:  0h 0m 10s\n",
      "--------------------------------------------------\n",
      "Writing TB hparams\n",
      "Saving model...\n",
      "Saving confusion matrices...\n"
     ]
    }
   ],
   "source": [
    "model_run = train_model(base_dir=BASE_DIR,\n",
    "                        resume=resume_run,\n",
    "                        model_name=\"v1\",\n",
    "                        chosen_diseases=chosen_diseases,\n",
    "                        n_epochs=N_EPOCHS,\n",
    "                        batch_size=BATCH_SIZE,\n",
    "                        shuffle=True,\n",
    "                        opt=\"adam\",\n",
    "                        opt_params=opt_params,\n",
    "                        train_resnet=TRAIN_RESNET,\n",
    "                        image_format=\"RGB\",\n",
    "                        flush_secs=FLUSH_SECS,\n",
    "                        train_max_images=train_max_images,\n",
    "                        val_max_images=val_max_images,\n",
    "                        experiment_mode=\"debug\",\n",
    "                        save=True,\n",
    "                        save_cms=True,\n",
    "                        write_graph=False,\n",
    "                        write_emb=False,\n",
    "                        write_emb_img=False,\n",
    "                        write_img=False,\n",
    "                       )"
   ]
  },
  {
   "cell_type": "code",
   "execution_count": null,
   "metadata": {},
   "outputs": [],
   "source": []
  },
  {
   "cell_type": "code",
   "execution_count": 14,
   "metadata": {},
   "outputs": [
    {
     "data": {
      "text/plain": [
       "ResnetBasedModel(\n",
       "  (model_ft): ResNet(\n",
       "    (conv1): Conv2d(3, 64, kernel_size=(7, 7), stride=(2, 2), padding=(3, 3), bias=False)\n",
       "    (bn1): BatchNorm2d(64, eps=1e-05, momentum=0.1, affine=True, track_running_stats=True)\n",
       "    (relu): ReLU(inplace)\n",
       "    (maxpool): MaxPool2d(kernel_size=3, stride=2, padding=1, dilation=1, ceil_mode=False)\n",
       "    (layer1): Sequential(\n",
       "      (0): Bottleneck(\n",
       "        (conv1): Conv2d(64, 64, kernel_size=(1, 1), stride=(1, 1), bias=False)\n",
       "        (bn1): BatchNorm2d(64, eps=1e-05, momentum=0.1, affine=True, track_running_stats=True)\n",
       "        (conv2): Conv2d(64, 64, kernel_size=(3, 3), stride=(1, 1), padding=(1, 1), bias=False)\n",
       "        (bn2): BatchNorm2d(64, eps=1e-05, momentum=0.1, affine=True, track_running_stats=True)\n",
       "        (conv3): Conv2d(64, 256, kernel_size=(1, 1), stride=(1, 1), bias=False)\n",
       "        (bn3): BatchNorm2d(256, eps=1e-05, momentum=0.1, affine=True, track_running_stats=True)\n",
       "        (relu): ReLU(inplace)\n",
       "        (downsample): Sequential(\n",
       "          (0): Conv2d(64, 256, kernel_size=(1, 1), stride=(1, 1), bias=False)\n",
       "          (1): BatchNorm2d(256, eps=1e-05, momentum=0.1, affine=True, track_running_stats=True)\n",
       "        )\n",
       "      )\n",
       "      (1): Bottleneck(\n",
       "        (conv1): Conv2d(256, 64, kernel_size=(1, 1), stride=(1, 1), bias=False)\n",
       "        (bn1): BatchNorm2d(64, eps=1e-05, momentum=0.1, affine=True, track_running_stats=True)\n",
       "        (conv2): Conv2d(64, 64, kernel_size=(3, 3), stride=(1, 1), padding=(1, 1), bias=False)\n",
       "        (bn2): BatchNorm2d(64, eps=1e-05, momentum=0.1, affine=True, track_running_stats=True)\n",
       "        (conv3): Conv2d(64, 256, kernel_size=(1, 1), stride=(1, 1), bias=False)\n",
       "        (bn3): BatchNorm2d(256, eps=1e-05, momentum=0.1, affine=True, track_running_stats=True)\n",
       "        (relu): ReLU(inplace)\n",
       "      )\n",
       "      (2): Bottleneck(\n",
       "        (conv1): Conv2d(256, 64, kernel_size=(1, 1), stride=(1, 1), bias=False)\n",
       "        (bn1): BatchNorm2d(64, eps=1e-05, momentum=0.1, affine=True, track_running_stats=True)\n",
       "        (conv2): Conv2d(64, 64, kernel_size=(3, 3), stride=(1, 1), padding=(1, 1), bias=False)\n",
       "        (bn2): BatchNorm2d(64, eps=1e-05, momentum=0.1, affine=True, track_running_stats=True)\n",
       "        (conv3): Conv2d(64, 256, kernel_size=(1, 1), stride=(1, 1), bias=False)\n",
       "        (bn3): BatchNorm2d(256, eps=1e-05, momentum=0.1, affine=True, track_running_stats=True)\n",
       "        (relu): ReLU(inplace)\n",
       "      )\n",
       "    )\n",
       "    (layer2): Sequential(\n",
       "      (0): Bottleneck(\n",
       "        (conv1): Conv2d(256, 128, kernel_size=(1, 1), stride=(1, 1), bias=False)\n",
       "        (bn1): BatchNorm2d(128, eps=1e-05, momentum=0.1, affine=True, track_running_stats=True)\n",
       "        (conv2): Conv2d(128, 128, kernel_size=(3, 3), stride=(2, 2), padding=(1, 1), bias=False)\n",
       "        (bn2): BatchNorm2d(128, eps=1e-05, momentum=0.1, affine=True, track_running_stats=True)\n",
       "        (conv3): Conv2d(128, 512, kernel_size=(1, 1), stride=(1, 1), bias=False)\n",
       "        (bn3): BatchNorm2d(512, eps=1e-05, momentum=0.1, affine=True, track_running_stats=True)\n",
       "        (relu): ReLU(inplace)\n",
       "        (downsample): Sequential(\n",
       "          (0): Conv2d(256, 512, kernel_size=(1, 1), stride=(2, 2), bias=False)\n",
       "          (1): BatchNorm2d(512, eps=1e-05, momentum=0.1, affine=True, track_running_stats=True)\n",
       "        )\n",
       "      )\n",
       "      (1): Bottleneck(\n",
       "        (conv1): Conv2d(512, 128, kernel_size=(1, 1), stride=(1, 1), bias=False)\n",
       "        (bn1): BatchNorm2d(128, eps=1e-05, momentum=0.1, affine=True, track_running_stats=True)\n",
       "        (conv2): Conv2d(128, 128, kernel_size=(3, 3), stride=(1, 1), padding=(1, 1), bias=False)\n",
       "        (bn2): BatchNorm2d(128, eps=1e-05, momentum=0.1, affine=True, track_running_stats=True)\n",
       "        (conv3): Conv2d(128, 512, kernel_size=(1, 1), stride=(1, 1), bias=False)\n",
       "        (bn3): BatchNorm2d(512, eps=1e-05, momentum=0.1, affine=True, track_running_stats=True)\n",
       "        (relu): ReLU(inplace)\n",
       "      )\n",
       "      (2): Bottleneck(\n",
       "        (conv1): Conv2d(512, 128, kernel_size=(1, 1), stride=(1, 1), bias=False)\n",
       "        (bn1): BatchNorm2d(128, eps=1e-05, momentum=0.1, affine=True, track_running_stats=True)\n",
       "        (conv2): Conv2d(128, 128, kernel_size=(3, 3), stride=(1, 1), padding=(1, 1), bias=False)\n",
       "        (bn2): BatchNorm2d(128, eps=1e-05, momentum=0.1, affine=True, track_running_stats=True)\n",
       "        (conv3): Conv2d(128, 512, kernel_size=(1, 1), stride=(1, 1), bias=False)\n",
       "        (bn3): BatchNorm2d(512, eps=1e-05, momentum=0.1, affine=True, track_running_stats=True)\n",
       "        (relu): ReLU(inplace)\n",
       "      )\n",
       "      (3): Bottleneck(\n",
       "        (conv1): Conv2d(512, 128, kernel_size=(1, 1), stride=(1, 1), bias=False)\n",
       "        (bn1): BatchNorm2d(128, eps=1e-05, momentum=0.1, affine=True, track_running_stats=True)\n",
       "        (conv2): Conv2d(128, 128, kernel_size=(3, 3), stride=(1, 1), padding=(1, 1), bias=False)\n",
       "        (bn2): BatchNorm2d(128, eps=1e-05, momentum=0.1, affine=True, track_running_stats=True)\n",
       "        (conv3): Conv2d(128, 512, kernel_size=(1, 1), stride=(1, 1), bias=False)\n",
       "        (bn3): BatchNorm2d(512, eps=1e-05, momentum=0.1, affine=True, track_running_stats=True)\n",
       "        (relu): ReLU(inplace)\n",
       "      )\n",
       "    )\n",
       "    (layer3): Sequential(\n",
       "      (0): Bottleneck(\n",
       "        (conv1): Conv2d(512, 256, kernel_size=(1, 1), stride=(1, 1), bias=False)\n",
       "        (bn1): BatchNorm2d(256, eps=1e-05, momentum=0.1, affine=True, track_running_stats=True)\n",
       "        (conv2): Conv2d(256, 256, kernel_size=(3, 3), stride=(2, 2), padding=(1, 1), bias=False)\n",
       "        (bn2): BatchNorm2d(256, eps=1e-05, momentum=0.1, affine=True, track_running_stats=True)\n",
       "        (conv3): Conv2d(256, 1024, kernel_size=(1, 1), stride=(1, 1), bias=False)\n",
       "        (bn3): BatchNorm2d(1024, eps=1e-05, momentum=0.1, affine=True, track_running_stats=True)\n",
       "        (relu): ReLU(inplace)\n",
       "        (downsample): Sequential(\n",
       "          (0): Conv2d(512, 1024, kernel_size=(1, 1), stride=(2, 2), bias=False)\n",
       "          (1): BatchNorm2d(1024, eps=1e-05, momentum=0.1, affine=True, track_running_stats=True)\n",
       "        )\n",
       "      )\n",
       "      (1): Bottleneck(\n",
       "        (conv1): Conv2d(1024, 256, kernel_size=(1, 1), stride=(1, 1), bias=False)\n",
       "        (bn1): BatchNorm2d(256, eps=1e-05, momentum=0.1, affine=True, track_running_stats=True)\n",
       "        (conv2): Conv2d(256, 256, kernel_size=(3, 3), stride=(1, 1), padding=(1, 1), bias=False)\n",
       "        (bn2): BatchNorm2d(256, eps=1e-05, momentum=0.1, affine=True, track_running_stats=True)\n",
       "        (conv3): Conv2d(256, 1024, kernel_size=(1, 1), stride=(1, 1), bias=False)\n",
       "        (bn3): BatchNorm2d(1024, eps=1e-05, momentum=0.1, affine=True, track_running_stats=True)\n",
       "        (relu): ReLU(inplace)\n",
       "      )\n",
       "      (2): Bottleneck(\n",
       "        (conv1): Conv2d(1024, 256, kernel_size=(1, 1), stride=(1, 1), bias=False)\n",
       "        (bn1): BatchNorm2d(256, eps=1e-05, momentum=0.1, affine=True, track_running_stats=True)\n",
       "        (conv2): Conv2d(256, 256, kernel_size=(3, 3), stride=(1, 1), padding=(1, 1), bias=False)\n",
       "        (bn2): BatchNorm2d(256, eps=1e-05, momentum=0.1, affine=True, track_running_stats=True)\n",
       "        (conv3): Conv2d(256, 1024, kernel_size=(1, 1), stride=(1, 1), bias=False)\n",
       "        (bn3): BatchNorm2d(1024, eps=1e-05, momentum=0.1, affine=True, track_running_stats=True)\n",
       "        (relu): ReLU(inplace)\n",
       "      )\n",
       "      (3): Bottleneck(\n",
       "        (conv1): Conv2d(1024, 256, kernel_size=(1, 1), stride=(1, 1), bias=False)\n",
       "        (bn1): BatchNorm2d(256, eps=1e-05, momentum=0.1, affine=True, track_running_stats=True)\n",
       "        (conv2): Conv2d(256, 256, kernel_size=(3, 3), stride=(1, 1), padding=(1, 1), bias=False)\n",
       "        (bn2): BatchNorm2d(256, eps=1e-05, momentum=0.1, affine=True, track_running_stats=True)\n",
       "        (conv3): Conv2d(256, 1024, kernel_size=(1, 1), stride=(1, 1), bias=False)\n",
       "        (bn3): BatchNorm2d(1024, eps=1e-05, momentum=0.1, affine=True, track_running_stats=True)\n",
       "        (relu): ReLU(inplace)\n",
       "      )\n",
       "      (4): Bottleneck(\n",
       "        (conv1): Conv2d(1024, 256, kernel_size=(1, 1), stride=(1, 1), bias=False)\n",
       "        (bn1): BatchNorm2d(256, eps=1e-05, momentum=0.1, affine=True, track_running_stats=True)\n",
       "        (conv2): Conv2d(256, 256, kernel_size=(3, 3), stride=(1, 1), padding=(1, 1), bias=False)\n",
       "        (bn2): BatchNorm2d(256, eps=1e-05, momentum=0.1, affine=True, track_running_stats=True)\n",
       "        (conv3): Conv2d(256, 1024, kernel_size=(1, 1), stride=(1, 1), bias=False)\n",
       "        (bn3): BatchNorm2d(1024, eps=1e-05, momentum=0.1, affine=True, track_running_stats=True)\n",
       "        (relu): ReLU(inplace)\n",
       "      )\n",
       "      (5): Bottleneck(\n",
       "        (conv1): Conv2d(1024, 256, kernel_size=(1, 1), stride=(1, 1), bias=False)\n",
       "        (bn1): BatchNorm2d(256, eps=1e-05, momentum=0.1, affine=True, track_running_stats=True)\n",
       "        (conv2): Conv2d(256, 256, kernel_size=(3, 3), stride=(1, 1), padding=(1, 1), bias=False)\n",
       "        (bn2): BatchNorm2d(256, eps=1e-05, momentum=0.1, affine=True, track_running_stats=True)\n",
       "        (conv3): Conv2d(256, 1024, kernel_size=(1, 1), stride=(1, 1), bias=False)\n",
       "        (bn3): BatchNorm2d(1024, eps=1e-05, momentum=0.1, affine=True, track_running_stats=True)\n",
       "        (relu): ReLU(inplace)\n",
       "      )\n",
       "    )\n",
       "    (layer4): Sequential(\n",
       "      (0): Bottleneck(\n",
       "        (conv1): Conv2d(1024, 512, kernel_size=(1, 1), stride=(1, 1), bias=False)\n",
       "        (bn1): BatchNorm2d(512, eps=1e-05, momentum=0.1, affine=True, track_running_stats=True)\n",
       "        (conv2): Conv2d(512, 512, kernel_size=(3, 3), stride=(2, 2), padding=(1, 1), bias=False)\n",
       "        (bn2): BatchNorm2d(512, eps=1e-05, momentum=0.1, affine=True, track_running_stats=True)\n",
       "        (conv3): Conv2d(512, 2048, kernel_size=(1, 1), stride=(1, 1), bias=False)\n",
       "        (bn3): BatchNorm2d(2048, eps=1e-05, momentum=0.1, affine=True, track_running_stats=True)\n",
       "        (relu): ReLU(inplace)\n",
       "        (downsample): Sequential(\n",
       "          (0): Conv2d(1024, 2048, kernel_size=(1, 1), stride=(2, 2), bias=False)\n",
       "          (1): BatchNorm2d(2048, eps=1e-05, momentum=0.1, affine=True, track_running_stats=True)\n",
       "        )\n",
       "      )\n",
       "      (1): Bottleneck(\n",
       "        (conv1): Conv2d(2048, 512, kernel_size=(1, 1), stride=(1, 1), bias=False)\n",
       "        (bn1): BatchNorm2d(512, eps=1e-05, momentum=0.1, affine=True, track_running_stats=True)\n",
       "        (conv2): Conv2d(512, 512, kernel_size=(3, 3), stride=(1, 1), padding=(1, 1), bias=False)\n",
       "        (bn2): BatchNorm2d(512, eps=1e-05, momentum=0.1, affine=True, track_running_stats=True)\n",
       "        (conv3): Conv2d(512, 2048, kernel_size=(1, 1), stride=(1, 1), bias=False)\n",
       "        (bn3): BatchNorm2d(2048, eps=1e-05, momentum=0.1, affine=True, track_running_stats=True)\n",
       "        (relu): ReLU(inplace)\n",
       "      )\n",
       "      (2): Bottleneck(\n",
       "        (conv1): Conv2d(2048, 512, kernel_size=(1, 1), stride=(1, 1), bias=False)\n",
       "        (bn1): BatchNorm2d(512, eps=1e-05, momentum=0.1, affine=True, track_running_stats=True)\n",
       "        (conv2): Conv2d(512, 512, kernel_size=(3, 3), stride=(1, 1), padding=(1, 1), bias=False)\n",
       "        (bn2): BatchNorm2d(512, eps=1e-05, momentum=0.1, affine=True, track_running_stats=True)\n",
       "        (conv3): Conv2d(512, 2048, kernel_size=(1, 1), stride=(1, 1), bias=False)\n",
       "        (bn3): BatchNorm2d(2048, eps=1e-05, momentum=0.1, affine=True, track_running_stats=True)\n",
       "        (relu): ReLU(inplace)\n",
       "      )\n",
       "    )\n",
       "    (avgpool): AdaptiveAvgPool2d(output_size=(1, 1))\n",
       "    (fc): Linear(in_features=2048, out_features=1000, bias=True)\n",
       "  )\n",
       "  (transition): Sequential(\n",
       "    (0): Conv2d(2048, 2048, kernel_size=(3, 3), stride=(1, 1), padding=(1, 1), bias=False)\n",
       "  )\n",
       "  (global_pool): Sequential(\n",
       "    (0): MaxPool2d(kernel_size=32, stride=32, padding=0, dilation=1, ceil_mode=False)\n",
       "  )\n",
       "  (prediction): Sequential(\n",
       "    (0): Linear(in_features=2048, out_features=100, bias=True)\n",
       "    (1): Linear(in_features=100, out_features=14, bias=True)\n",
       "    (2): Sigmoid()\n",
       "  )\n",
       ")"
      ]
     },
     "execution_count": 14,
     "metadata": {},
     "output_type": "execute_result"
    }
   ],
   "source": [
    "model_run.model"
   ]
  },
  {
   "cell_type": "code",
   "execution_count": null,
   "metadata": {},
   "outputs": [],
   "source": []
  },
  {
   "cell_type": "code",
   "execution_count": 14,
   "metadata": {},
   "outputs": [
    {
     "data": {
      "text/plain": [
       "'1112_155813_all'"
      ]
     },
     "execution_count": 14,
     "metadata": {},
     "output_type": "execute_result"
    }
   ],
   "source": [
    "model_run.run_name"
   ]
  },
  {
   "cell_type": "code",
   "execution_count": 40,
   "metadata": {
    "collapsed": true
   },
   "outputs": [
    {
     "data": {
      "text/plain": [
       "{'acc_Atelectasis': 0.94,\n",
       " 'acc_Cardiomegaly': 0.99,\n",
       " 'acc_Consolidation': 0.03,\n",
       " 'acc_Edema': 1.0,\n",
       " 'acc_Effusion': 0.18,\n",
       " 'acc_Emphysema': 0.98,\n",
       " 'acc_Fibrosis': 0.06,\n",
       " 'acc_Hernia': 0.08,\n",
       " 'acc_Infiltration': 0.2,\n",
       " 'acc_Mass': 0.08,\n",
       " 'acc_Nodule': 0.7,\n",
       " 'acc_Pleural_Thickening': 0.28,\n",
       " 'acc_Pneumonia': 0.02,\n",
       " 'acc_Pneumothorax': 0.8,\n",
       " 'cm_Atelectasis': tensor([[94,  0],\n",
       "         [ 6,  0]]),\n",
       " 'cm_Cardiomegaly': tensor([[99,  0],\n",
       "         [ 1,  0]]),\n",
       " 'cm_Consolidation': tensor([[ 0, 97],\n",
       "         [ 0,  3]]),\n",
       " 'cm_Edema': tensor([[100,   0],\n",
       "         [  0,   0]]),\n",
       " 'cm_Effusion': tensor([[ 6, 82],\n",
       "         [ 0, 12]]),\n",
       " 'cm_Emphysema': tensor([[98,  0],\n",
       "         [ 2,  0]]),\n",
       " 'cm_Fibrosis': tensor([[ 6, 94],\n",
       "         [ 0,  0]]),\n",
       " 'cm_Hernia': tensor([[ 8, 92],\n",
       "         [ 0,  0]]),\n",
       " 'cm_Infiltration': tensor([[ 0, 80],\n",
       "         [ 0, 20]]),\n",
       " 'cm_Mass': tensor([[ 5, 92],\n",
       "         [ 0,  3]]),\n",
       " 'cm_Nodule': tensor([[69, 24],\n",
       "         [ 6,  1]]),\n",
       " 'cm_Pleural_Thickening': tensor([[24, 72],\n",
       "         [ 0,  4]]),\n",
       " 'cm_Pneumonia': tensor([[ 1, 98],\n",
       "         [ 0,  1]]),\n",
       " 'cm_Pneumothorax': tensor([[80, 15],\n",
       "         [ 5,  0]]),\n",
       " 'positives_Atelectasis': 0.1176238400000001,\n",
       " 'positives_Cardiomegaly': 0.019600000000000017,\n",
       " 'positives_Consolidation': 0.05920000000000005,\n",
       " 'positives_Edema': 0.0,\n",
       " 'positives_Effusion': 2.0396,\n",
       " 'positives_Emphysema': 0.03880800000000004,\n",
       " 'positives_Fibrosis': 0.0,\n",
       " 'positives_Hernia': 0.0,\n",
       " 'positives_Infiltration': 3.9992238399999995,\n",
       " 'positives_Mass': 0.96196816,\n",
       " 'positives_Nodule': 1.941984,\n",
       " 'positives_Pleural_Thickening': 0.97961584,\n",
       " 'positives_Pneumonia': 0.018823840000000015,\n",
       " 'positives_Pneumothorax': 1.90314432,\n",
       " 'prec_Atelectasis': 0.0,\n",
       " 'prec_Cardiomegaly': 0.0,\n",
       " 'prec_Consolidation': 0.03,\n",
       " 'prec_Edema': 0.0,\n",
       " 'prec_Effusion': 0.1276595744680851,\n",
       " 'prec_Emphysema': 0.0,\n",
       " 'prec_Fibrosis': 0.0,\n",
       " 'prec_Hernia': 0.0,\n",
       " 'prec_Infiltration': 0.2,\n",
       " 'prec_Mass': 0.031578947368421054,\n",
       " 'prec_Nodule': 0.04,\n",
       " 'prec_Pleural_Thickening': 0.05263157894736842,\n",
       " 'prec_Pneumonia': 0.010101010101010102,\n",
       " 'prec_Pneumothorax': 0.0,\n",
       " 'recall_Atelectasis': 0.0,\n",
       " 'recall_Cardiomegaly': 0.0,\n",
       " 'recall_Consolidation': 1.0,\n",
       " 'recall_Edema': 0.0,\n",
       " 'recall_Effusion': 1.0,\n",
       " 'recall_Emphysema': 0.0,\n",
       " 'recall_Fibrosis': 0.0,\n",
       " 'recall_Hernia': 0.0,\n",
       " 'recall_Infiltration': 1.0,\n",
       " 'recall_Mass': 1.0,\n",
       " 'recall_Nodule': 0.14285714285714285,\n",
       " 'recall_Pleural_Thickening': 1.0,\n",
       " 'recall_Pneumonia': 1.0,\n",
       " 'recall_Pneumothorax': 0.0,\n",
       " 'roc_auc_Atelectasis': 0.4290780141843971,\n",
       " 'roc_auc_Cardiomegaly': 0.9797979797979798,\n",
       " 'roc_auc_Consolidation': 0.10652920962199315,\n",
       " 'roc_auc_Edema': 0,\n",
       " 'roc_auc_Effusion': 0.4886363636363636,\n",
       " 'roc_auc_Emphysema': 0.6989795918367346,\n",
       " 'roc_auc_Fibrosis': 0,\n",
       " 'roc_auc_Hernia': 0,\n",
       " 'roc_auc_Infiltration': 0.421875,\n",
       " 'roc_auc_Mass': 0.3676975945017182,\n",
       " 'roc_auc_Nodule': 0.3840245775729647,\n",
       " 'roc_auc_Pleural_Thickening': 0.5208333333333334,\n",
       " 'roc_auc_Pneumonia': 0.9696969696969697,\n",
       " 'roc_auc_Pneumothorax': 0.3915789473684211,\n",
       " 'wbce_loss': 392.0631408691406}"
      ]
     },
     "execution_count": 40,
     "metadata": {},
     "output_type": "execute_result"
    }
   ],
   "source": [
    "model_run.trainer.state.metrics"
   ]
  },
  {
   "cell_type": "code",
   "execution_count": 15,
   "metadata": {},
   "outputs": [],
   "source": [
    "chosen_diseases = model_run.chosen_diseases"
   ]
  },
  {
   "cell_type": "code",
   "execution_count": null,
   "metadata": {},
   "outputs": [],
   "source": []
  },
  {
   "cell_type": "code",
   "execution_count": null,
   "metadata": {},
   "outputs": [],
   "source": []
  },
  {
   "cell_type": "code",
   "execution_count": null,
   "metadata": {},
   "outputs": [],
   "source": []
  },
  {
   "cell_type": "code",
   "execution_count": null,
   "metadata": {},
   "outputs": [],
   "source": []
  },
  {
   "cell_type": "markdown",
   "metadata": {},
   "source": [
    "## Load model"
   ]
  },
  {
   "cell_type": "code",
   "execution_count": 7,
   "metadata": {},
   "outputs": [],
   "source": [
    "run_name = \"1119_115517_resnet_v2_Cardiomegaly\"\n",
    "# \"1105_193619_shuffle_all\""
   ]
  },
  {
   "cell_type": "code",
   "execution_count": 8,
   "metadata": {},
   "outputs": [
    {
     "ename": "NameError",
     "evalue": "name 'device' is not defined",
     "output_type": "error",
     "traceback": [
      "\u001b[0;31m--------------------------------------------------------------\u001b[0m",
      "\u001b[0;31mNameError\u001b[0m                    Traceback (most recent call last)",
      "\u001b[0;32m<ipython-input-8-9fc3db71e8c9>\u001b[0m in \u001b[0;36m<module>\u001b[0;34m\u001b[0m\n\u001b[1;32m      1\u001b[0m \u001b[0mmodel\u001b[0m\u001b[0;34m,\u001b[0m \u001b[0mmodel_name\u001b[0m\u001b[0;34m,\u001b[0m \u001b[0moptimizer\u001b[0m\u001b[0;34m,\u001b[0m \u001b[0mopt_name\u001b[0m\u001b[0;34m,\u001b[0m \u001b[0mchosen_diseases\u001b[0m \u001b[0;34m=\u001b[0m \u001b[0mload_model\u001b[0m\u001b[0;34m(\u001b[0m\u001b[0mBASE_DIR\u001b[0m\u001b[0;34m,\u001b[0m \u001b[0mrun_name\u001b[0m\u001b[0;34m)\u001b[0m\u001b[0;34m\u001b[0m\u001b[0m\n\u001b[0;32m----> 2\u001b[0;31m \u001b[0mmodel\u001b[0m \u001b[0;34m=\u001b[0m \u001b[0mmodel\u001b[0m\u001b[0;34m.\u001b[0m\u001b[0mto\u001b[0m\u001b[0;34m(\u001b[0m\u001b[0mdevice\u001b[0m\u001b[0;34m)\u001b[0m\u001b[0;34m\u001b[0m\u001b[0m\n\u001b[0m",
      "\u001b[0;31mNameError\u001b[0m: name 'device' is not defined"
     ]
    }
   ],
   "source": [
    "model, model_name, optimizer, opt_name, chosen_diseases = load_model(BASE_DIR, run_name)\n",
    "model = model.to(device)"
   ]
  },
  {
   "cell_type": "code",
   "execution_count": null,
   "metadata": {},
   "outputs": [],
   "source": [
    "_ = model.train(False)"
   ]
  },
  {
   "cell_type": "code",
   "execution_count": 13,
   "metadata": {},
   "outputs": [
    {
     "data": {
      "text/plain": [
       "Sequential(\n",
       "  (0): Dropout2d(p=0.2)\n",
       "  (1): Linear(in_features=2048, out_features=100, bias=True)\n",
       "  (2): Dropout(p=0.5)\n",
       "  (3): Linear(in_features=100, out_features=1, bias=True)\n",
       "  (4): Sigmoid()\n",
       ")"
      ]
     },
     "execution_count": 13,
     "metadata": {},
     "output_type": "execute_result"
    }
   ],
   "source": [
    "model.prediction"
   ]
  },
  {
   "cell_type": "code",
   "execution_count": null,
   "metadata": {},
   "outputs": [],
   "source": []
  },
  {
   "cell_type": "code",
   "execution_count": null,
   "metadata": {},
   "outputs": [],
   "source": []
  },
  {
   "cell_type": "code",
   "execution_count": null,
   "metadata": {},
   "outputs": [],
   "source": []
  },
  {
   "cell_type": "code",
   "execution_count": null,
   "metadata": {},
   "outputs": [],
   "source": []
  },
  {
   "cell_type": "markdown",
   "metadata": {},
   "source": [
    "## Load data"
   ]
  },
  {
   "cell_type": "code",
   "execution_count": 28,
   "metadata": {},
   "outputs": [
    {
     "name": "stdout",
     "output_type": "stream",
     "text": [
      "CPU times: user 30.9 s, sys: 176 ms, total: 31.1 s\n",
      "Wall time: 31.1 s\n"
     ]
    },
    {
     "data": {
      "text/plain": [
       "(25596, 14)"
      ]
     },
     "execution_count": 28,
     "metadata": {},
     "output_type": "execute_result"
    }
   ],
   "source": [
    "%%time\n",
    "dataset, dataloader = prepare_data(DATASET_DIR, \"test\", chosen_diseases, BATCH_SIZE, max_images=None)\n",
    "n_images, n_diseases = dataset.size()\n",
    "n_images, n_diseases"
   ]
  },
  {
   "cell_type": "markdown",
   "metadata": {},
   "source": [
    "### Test broken image (load every image)"
   ]
  },
  {
   "cell_type": "code",
   "execution_count": 24,
   "metadata": {},
   "outputs": [
    {
     "name": "stdout",
     "output_type": "stream",
     "text": [
      "CPU times: user 2min 19s, sys: 856 ms, total: 2min 20s\n",
      "Wall time: 1min 12s\n"
     ]
    }
   ],
   "source": [
    "%%time\n",
    "\n",
    "start_idx = 0 # 70000\n",
    "\n",
    "for idx in range(start_idx, len(dataset)):\n",
    "    item = dataset[idx]"
   ]
  },
  {
   "cell_type": "code",
   "execution_count": null,
   "metadata": {},
   "outputs": [],
   "source": []
  },
  {
   "cell_type": "markdown",
   "metadata": {},
   "source": [
    "## Plot confusion matrices"
   ]
  },
  {
   "cell_type": "code",
   "execution_count": 9,
   "metadata": {},
   "outputs": [],
   "source": [
    "%run utils.py"
   ]
  },
  {
   "cell_type": "code",
   "execution_count": 10,
   "metadata": {},
   "outputs": [
    {
     "data": {
      "text/plain": [
       "(1, 2, 2)"
      ]
     },
     "execution_count": 10,
     "metadata": {},
     "output_type": "execute_result"
    }
   ],
   "source": [
    "train_cms = np.load(CMS_DIR + \"/\" + run_name + \"_train.npy\") # train, val or all\n",
    "train_cms.shape"
   ]
  },
  {
   "cell_type": "code",
   "execution_count": 11,
   "metadata": {},
   "outputs": [
    {
     "data": {
      "text/plain": [
       "(1, 2, 2)"
      ]
     },
     "execution_count": 11,
     "metadata": {},
     "output_type": "execute_result"
    }
   ],
   "source": [
    "val_cms = np.load(CMS_DIR + \"/\" + run_name + \"_val.npy\") # train, val or all\n",
    "val_cms.shape"
   ]
  },
  {
   "cell_type": "code",
   "execution_count": 12,
   "metadata": {},
   "outputs": [
    {
     "data": {
      "text/plain": [
       "1"
      ]
     },
     "execution_count": 12,
     "metadata": {},
     "output_type": "execute_result"
    }
   ],
   "source": [
    "n_diseases, _, _ = train_cms.shape\n",
    "n_diseases"
   ]
  },
  {
   "cell_type": "code",
   "execution_count": 13,
   "metadata": {},
   "outputs": [
    {
     "name": "stdout",
     "output_type": "stream",
     "text": [
      "Left: training\n",
      "Right: validation\n"
     ]
    },
    {
     "data": {
      "image/png": "[encoded data removed]",
      "text/plain": [
       "<Figure size 1296x411.429 with 4 Axes>"
      ]
     },
     "metadata": {
      "needs_background": "light"
     },
     "output_type": "display_data"
    }
   ],
   "source": [
    "classes = [0, 1] # negative, positive\n",
    "\n",
    "plt.figure(figsize=(18,80/14 * n_diseases))\n",
    "plot_train_val_cms(train_cms, val_cms, classes, chosen_diseases, percentage=True)"
   ]
  },
  {
   "cell_type": "code",
   "execution_count": null,
   "metadata": {},
   "outputs": [],
   "source": []
  },
  {
   "cell_type": "code",
   "execution_count": null,
   "metadata": {},
   "outputs": [],
   "source": []
  },
  {
   "cell_type": "code",
   "execution_count": null,
   "metadata": {},
   "outputs": [],
   "source": []
  },
  {
   "cell_type": "markdown",
   "metadata": {},
   "source": [
    "## Gen images with bbox and activation"
   ]
  },
  {
   "cell_type": "code",
   "execution_count": 21,
   "metadata": {},
   "outputs": [],
   "source": [
    "def gen_image_with_bbox(model, dataset, image_name, chosen_diseases):\n",
    "    bboxes = []\n",
    "\n",
    "    image, labels, _, bboxes_raw, are_valid = dataset.get_by_name(image_name)\n",
    "\n",
    "    # Convert to batch\n",
    "    images = image.view(1, *image.shape)\n",
    "\n",
    "    # Image to GPU\n",
    "    images = images.to(device)\n",
    "\n",
    "    # Pass thru model\n",
    "    with torch.no_grad():\n",
    "        predictions, _, activations = model(images)\n",
    "\n",
    "    # Copy bbox\n",
    "    for disease_index, (bbox, is_valid) in enumerate(zip(bboxes_raw, are_valid)):\n",
    "        is_valid = bool(is_valid.item())\n",
    "        disease_name = chosen_diseases[disease_index]\n",
    "        if is_valid:\n",
    "            x, y, w, h = bbox.numpy()\n",
    "            bboxes.append((disease_name, x, y, w, h))\n",
    "\n",
    "    return image.numpy(), labels, predictions[0].cpu().numpy(), bboxes, activations[0].cpu().numpy()"
   ]
  },
  {
   "cell_type": "code",
   "execution_count": 22,
   "metadata": {},
   "outputs": [],
   "source": [
    "image_name = \"00010277_000.png\""
   ]
  },
  {
   "cell_type": "code",
   "execution_count": 23,
   "metadata": {},
   "outputs": [
    {
     "data": {
      "text/plain": [
       "((3, 512, 512),\n",
       " (14,),\n",
       " (14,),\n",
       " [('Effusion', 863.0, 693.0, 72.0, 112.0),\n",
       "  ('Infiltration', 633.0, 416.0, 271.0, 221.0),\n",
       "  ('Mass', 297.0, 310.0, 540.0, 277.0),\n",
       "  ('Pneumonia', 642.0, 423.0, 265.0, 223.0)],\n",
       " (14, 16, 16))"
      ]
     },
     "execution_count": 23,
     "metadata": {},
     "output_type": "execute_result"
    }
   ],
   "source": [
    "image, gt, prediction, bboxes, activation = gen_image_with_bbox(model_run.model,\n",
    "                                                                dataset,\n",
    "                                                                image_name,\n",
    "                                                                chosen_diseases)\n",
    "image.shape, gt.shape, prediction.shape, bboxes, activation.shape"
   ]
  },
  {
   "cell_type": "code",
   "execution_count": 24,
   "metadata": {},
   "outputs": [],
   "source": [
    "image = np.interp(image, (image.min(), image.max()), (0, 1))"
   ]
  },
  {
   "cell_type": "code",
   "execution_count": 25,
   "metadata": {},
   "outputs": [],
   "source": [
    "import matplotlib.pyplot as plt\n",
    "import matplotlib.patches as patches\n",
    "import numpy as np"
   ]
  },
  {
   "cell_type": "code",
   "execution_count": 71,
   "metadata": {},
   "outputs": [],
   "source": [
    "colors = [\"red\", \"blue\", \"cyan\", \"green\"]"
   ]
  },
  {
   "cell_type": "code",
   "execution_count": 85,
   "metadata": {},
   "outputs": [
    {
     "data": {
      "text/plain": [
       "[(0, 'Atelectasis'),\n",
       " (1, 'Cardiomegaly'),\n",
       " (2, 'Effusion'),\n",
       " (3, 'Infiltration'),\n",
       " (4, 'Mass'),\n",
       " (5, 'Nodule'),\n",
       " (6, 'Pneumonia'),\n",
       " (7, 'Pneumothorax'),\n",
       " (8, 'Consolidation'),\n",
       " (9, 'Edema'),\n",
       " (10, 'Emphysema'),\n",
       " (11, 'Fibrosis'),\n",
       " (12, 'Pleural_Thickening'),\n",
       " (13, 'Hernia')]"
      ]
     },
     "execution_count": 85,
     "metadata": {},
     "output_type": "execute_result"
    }
   ],
   "source": [
    "list(enumerate(chosen_diseases))"
   ]
  },
  {
   "cell_type": "code",
   "execution_count": 107,
   "metadata": {},
   "outputs": [
    {
     "data": {
      "text/plain": [
       "<matplotlib.colorbar.Colorbar at 0x7f7c30514208>"
      ]
     },
     "execution_count": 107,
     "metadata": {},
     "output_type": "execute_result"
    },
    {
     "data": {
      "image/png": "[encoded data removed]",
      "text/plain": [
       "<Figure size 1080x360 with 3 Axes>"
      ]
     },
     "metadata": {
      "needs_background": "light"
     },
     "output_type": "display_data"
    }
   ],
   "source": [
    "plt.figure(figsize=(15, 5))\n",
    "\n",
    "plt.subplots_adjust(wspace=0.5)\n",
    "\n",
    "plt.title(image_name)\n",
    "plt.subplot(1, 2, 1)\n",
    "plt.imshow(image.transpose(1, 2, 0))\n",
    "\n",
    "scale = 2\n",
    "\n",
    "ax = plt.gca()\n",
    "for index, bbox in enumerate(bboxes):\n",
    "    disease, x, y, width, height = bbox\n",
    "    \n",
    "    x /= scale\n",
    "    y /= scale\n",
    "    width /= scale\n",
    "    height /= scale\n",
    "    \n",
    "    color = colors[index]\n",
    "    rect = patches.Rectangle((x, y), width, height, linewidth=1, edgecolor=color, facecolor=\"none\", label=disease)\n",
    "    ax.add_patch(rect)\n",
    "\n",
    "plt.legend(bbox_to_anchor=(1.05, 1), loc=\"upper left\")\n",
    "\n",
    "plt.subplot(1, 2, 2)\n",
    "disease_index = 3\n",
    "disease_name = chosen_diseases[disease_index]\n",
    "pred = prediction[disease_index]\n",
    "\n",
    "plt.title(\"{} ({}, {:.2f})\".format(disease_name, gt[disease_index], pred))\n",
    "plt.imshow(activation[disease_index], cmap=\"Blues\")\n",
    "plt.colorbar()"
   ]
  },
  {
   "cell_type": "code",
   "execution_count": 116,
   "metadata": {},
   "outputs": [
    {
     "data": {
      "text/plain": [
       "[(0, 0),\n",
       " (1, 1),\n",
       " (2, 0),\n",
       " (3, 1),\n",
       " (4, 0),\n",
       " (5, 1),\n",
       " (6, 1),\n",
       " (7, 0),\n",
       " (8, 1),\n",
       " (9, 0),\n",
       " (10, 0),\n",
       " (11, 0),\n",
       " (12, 1),\n",
       " (13, 0)]"
      ]
     },
     "execution_count": 116,
     "metadata": {},
     "output_type": "execute_result"
    }
   ],
   "source": [
    "list(enumerate(gt))"
   ]
  },
  {
   "cell_type": "code",
   "execution_count": 117,
   "metadata": {},
   "outputs": [
    {
     "data": {
      "text/plain": [
       "'Fibrosis'"
      ]
     },
     "execution_count": 117,
     "metadata": {},
     "output_type": "execute_result"
    }
   ],
   "source": [
    "chosen_diseases[11]"
   ]
  },
  {
   "cell_type": "code",
   "execution_count": 113,
   "metadata": {},
   "outputs": [
    {
     "data": {
      "text/plain": [
       "[(0, False),\n",
       " (1, False),\n",
       " (2, False),\n",
       " (3, False),\n",
       " (4, False),\n",
       " (5, True),\n",
       " (6, False),\n",
       " (7, False),\n",
       " (8, False),\n",
       " (9, False),\n",
       " (10, False),\n",
       " (11, True),\n",
       " (12, False),\n",
       " (13, False)]"
      ]
     },
     "execution_count": 113,
     "metadata": {},
     "output_type": "execute_result"
    }
   ],
   "source": [
    "list(enumerate(prediction > 0.5))"
   ]
  },
  {
   "cell_type": "code",
   "execution_count": null,
   "metadata": {},
   "outputs": [],
   "source": []
  },
  {
   "cell_type": "code",
   "execution_count": null,
   "metadata": {},
   "outputs": [],
   "source": []
  },
  {
   "cell_type": "code",
   "execution_count": null,
   "metadata": {},
   "outputs": [],
   "source": []
  },
  {
   "cell_type": "markdown",
   "metadata": {},
   "source": [
    "## Add images to TB"
   ]
  },
  {
   "cell_type": "code",
   "execution_count": 15,
   "metadata": {},
   "outputs": [],
   "source": [
    "def tb_write_images_together(writer, image_name, activations):\n",
    "    # NOTE: this function is not used\n",
    "\n",
    "    expanded_activation = np.expand_dims(activations, -1)\n",
    "\n",
    "    npad = ((0, 0), (5, 5), (5, 5), (0, 0))\n",
    "    padded_activation = np.pad(expanded_activation, pad_width=npad, mode='constant', constant_values=0)\n",
    "\n",
    "    writer.add_images(\n",
    "        image_name + \"_activ\", padded_activation, dataformats=\"NHWC\")"
   ]
  },
  {
   "cell_type": "code",
   "execution_count": null,
   "metadata": {},
   "outputs": [],
   "source": []
  },
  {
   "cell_type": "code",
   "execution_count": null,
   "metadata": {},
   "outputs": [],
   "source": []
  },
  {
   "cell_type": "markdown",
   "metadata": {},
   "source": [
    "## Plot activations"
   ]
  },
  {
   "cell_type": "code",
   "execution_count": 37,
   "metadata": {},
   "outputs": [
    {
     "data": {
      "text/plain": [
       "torch.Size([20, 3, 512, 512])"
      ]
     },
     "execution_count": 37,
     "metadata": {},
     "output_type": "execute_result"
    }
   ],
   "source": [
    "images, labels, _, _, _ = next(iter(dataloader))\n",
    "images = images.to(device)\n",
    "images.size()"
   ]
  },
  {
   "cell_type": "code",
   "execution_count": 38,
   "metadata": {},
   "outputs": [],
   "source": [
    "with torch.no_grad():\n",
    "    pred, embedding, activation = model(images)"
   ]
  },
  {
   "cell_type": "code",
   "execution_count": 43,
   "metadata": {},
   "outputs": [
    {
     "data": {
      "text/plain": [
       "torch.Size([20, 14, 16, 16])"
      ]
     },
     "execution_count": 43,
     "metadata": {},
     "output_type": "execute_result"
    }
   ],
   "source": [
    "activation.size()"
   ]
  },
  {
   "cell_type": "code",
   "execution_count": 39,
   "metadata": {},
   "outputs": [],
   "source": [
    "images = images.cpu()\n",
    "activation = activation.cpu()"
   ]
  },
  {
   "cell_type": "code",
   "execution_count": 36,
   "metadata": {},
   "outputs": [],
   "source": [
    "import matplotlib.pyplot as plt"
   ]
  },
  {
   "cell_type": "code",
   "execution_count": 51,
   "metadata": {},
   "outputs": [
    {
     "data": {
      "text/plain": [
       "torch.Size([20, 1])"
      ]
     },
     "execution_count": 51,
     "metadata": {},
     "output_type": "execute_result"
    }
   ],
   "source": [
    "labels.size()"
   ]
  },
  {
   "cell_type": "code",
   "execution_count": 50,
   "metadata": {},
   "outputs": [
    {
     "name": "stdout",
     "output_type": "stream",
     "text": [
      "Prediction:  0.06491883844137192\n",
      "Label:  1\n"
     ]
    },
    {
     "data": {
      "image/png": "[encoded data removed]",
      "text/plain": [
       "<Figure size 432x288 with 2 Axes>"
      ]
     },
     "metadata": {
      "needs_background": "light"
     },
     "output_type": "display_data"
    }
   ],
   "source": [
    "image_idx = 0\n",
    "disease_idx = 0\n",
    "\n",
    "prediction = pred[image_idx, disease_idx].item()\n",
    "label = labels[image_idx, disease_idx].item()\n",
    "\n",
    "plt.imshow(activation[image_idx, disease_idx], cmap=\"Blues\")\n",
    "plt.colorbar()\n",
    "\n",
    "print(\"Prediction: \", prediction)\n",
    "print(\"Label: \", label)"
   ]
  },
  {
   "cell_type": "code",
   "execution_count": 116,
   "metadata": {},
   "outputs": [
    {
     "data": {
      "text/plain": [
       "torch.Size([4, 3, 512, 512])"
      ]
     },
     "execution_count": 116,
     "metadata": {},
     "output_type": "execute_result"
    }
   ],
   "source": [
    "images.size()"
   ]
  },
  {
   "cell_type": "code",
   "execution_count": 126,
   "metadata": {},
   "outputs": [
    {
     "data": {
      "text/plain": [
       "<matplotlib.image.AxesImage at 0x7fec08105208>"
      ]
     },
     "execution_count": 126,
     "metadata": {},
     "output_type": "execute_result"
    },
    {
     "data": {
      "image/png": "[encoded data removed]",
      "text/plain": [
       "<Figure size 432x288 with 1 Axes>"
      ]
     },
     "metadata": {
      "needs_background": "light"
     },
     "output_type": "display_data"
    }
   ],
   "source": [
    "plt.imshow(images[image_idx][0], cmap=\"gray\")"
   ]
  },
  {
   "cell_type": "code",
   "execution_count": null,
   "metadata": {},
   "outputs": [],
   "source": []
  },
  {
   "cell_type": "code",
   "execution_count": null,
   "metadata": {},
   "outputs": [],
   "source": []
  },
  {
   "cell_type": "code",
   "execution_count": null,
   "metadata": {},
   "outputs": [],
   "source": []
  },
  {
   "cell_type": "code",
   "execution_count": null,
   "metadata": {},
   "outputs": [],
   "source": []
  },
  {
   "cell_type": "markdown",
   "metadata": {},
   "source": [
    "***\n",
    "***\n",
    "\n",
    "# Old"
   ]
  },
  {
   "cell_type": "code",
   "execution_count": 27,
   "metadata": {},
   "outputs": [],
   "source": [
    "# FIXME: this code is to calculate the loss of the bbox prediction,\n",
    "# though the metric should be different? don't use binary cross entropy?\n",
    "\n",
    "#     # Get valid bbox_list\n",
    "#     # REVIEW: make bbox_list a tensor? and then send to device? same on seg_list below\n",
    "#     bbox_list = []\n",
    "#     n_samples, n_labels = bbox_valids.size()\n",
    "#     for i in range(n_samples):\n",
    "#         bbox_list.append([])\n",
    "#         for j in range(n_labels):\n",
    "#             if bbox_valids[i][j] == 1:\n",
    "#                 bbox_list[i].append(bboxes[i][j])\n",
    "#         bbox_list[i] = torch.stack(bbox_list[i]).to(device)\n",
    "    \n",
    "    \n",
    "#     # Segmentation lists\n",
    "#     seg_list = []\n",
    "#     for i in range(n_samples):\n",
    "#         seg_list.append([])\n",
    "#         for j in range(n_labels):\n",
    "#             if bbox_valids[i][j] == 1:\n",
    "#                 seg_list[i].append(segments[i][j])\n",
    "#         seg_list[i] = torch.stack(seg_list[i]).to(device)\n",
    "    \n",
    "#     # Compute bbox loss\n",
    "#     for i in range(len(seg_list)):\n",
    "#         # REVIEW: do this with a tensor? avoid the loop\n",
    "#         loss += 5/(512*512) * weighted_cross_entropy(seg_list[i], bbox_list[i], weights=(10, 1))\n",
    "        \n",
    "#         break\n",
    "# #         print(seg_list[i].size())\n",
    "# #         print(bbox_list[i].size())\n",
    "# #         break"
   ]
  }
 ],
 "metadata": {
  "kernelspec": {
   "display_name": "Python 3",
   "language": "python",
   "name": "python3"
  },
  "language_info": {
   "codemirror_mode": {
    "name": "ipython",
    "version": 3
   },
   "file_extension": ".py",
   "mimetype": "text/x-python",
   "name": "python",
   "nbconvert_exporter": "python",
   "pygments_lexer": "ipython3",
   "version": "3.5.2"
  }
 },
 "nbformat": 4,
 "nbformat_minor": 2
}
