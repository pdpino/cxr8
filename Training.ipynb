{
 "cells": [
  {
   "cell_type": "markdown",
   "metadata": {},
   "source": [
    "## Imports"
   ]
  },
  {
   "cell_type": "code",
   "execution_count": 1,
   "metadata": {},
   "outputs": [],
   "source": [
    "%run -n train.py"
   ]
  },
  {
   "cell_type": "code",
   "execution_count": 2,
   "metadata": {},
   "outputs": [],
   "source": [
    "%run utils.py"
   ]
  },
  {
   "cell_type": "code",
   "execution_count": 3,
   "metadata": {},
   "outputs": [],
   "source": [
    "%run utilsT.py"
   ]
  },
  {
   "cell_type": "code",
   "execution_count": 4,
   "metadata": {},
   "outputs": [
    {
     "data": {
      "text/plain": [
       "device(type='cuda')"
      ]
     },
     "execution_count": 4,
     "metadata": {},
     "output_type": "execute_result"
    }
   ],
   "source": [
    "device = get_torch_device()\n",
    "device"
   ]
  },
  {
   "cell_type": "markdown",
   "metadata": {},
   "source": [
    "## Params"
   ]
  },
  {
   "cell_type": "code",
   "execution_count": 5,
   "metadata": {},
   "outputs": [],
   "source": [
    "# In server\n",
    "BASE_DIR = '/mnt/data/chest-x-ray-8'\n",
    "DATASET_DIR = BASE_DIR + \"/dataset\"\n",
    "CMS_DIR = BASE_DIR + \"/cms\""
   ]
  },
  {
   "cell_type": "code",
   "execution_count": 6,
   "metadata": {},
   "outputs": [],
   "source": [
    "TRAIN_RESNET = False\n",
    "N_EPOCHS = 1\n",
    "BATCH_SIZE = 4\n",
    "FLUSH_SECS = 10 # Use a low value when debugging\n",
    "\n",
    "# Use None to unset the maximum\n",
    "train_max_images = 100 # None\n",
    "val_max_images = 100 # None # 2000 # None"
   ]
  },
  {
   "cell_type": "code",
   "execution_count": 7,
   "metadata": {},
   "outputs": [],
   "source": [
    "learning_rate = 1e-6\n",
    "optimizer_moment = 0.9\n",
    "weight_decay = 0\n",
    "regularization = 0"
   ]
  },
  {
   "cell_type": "code",
   "execution_count": 8,
   "metadata": {},
   "outputs": [
    {
     "data": {
      "text/plain": [
       "['Atelectasis',\n",
       " 'Cardiomegaly',\n",
       " 'Effusion',\n",
       " 'Infiltration',\n",
       " 'Mass',\n",
       " 'Nodule',\n",
       " 'Pneumonia',\n",
       " 'Pneumothorax',\n",
       " 'Consolidation',\n",
       " 'Edema',\n",
       " 'Emphysema',\n",
       " 'Fibrosis',\n",
       " 'Pleural_Thickening',\n",
       " 'Hernia']"
      ]
     },
     "execution_count": 8,
     "metadata": {},
     "output_type": "execute_result"
    }
   ],
   "source": [
    "chosen_diseases = list(ALL_DISEASES)\n",
    "chosen_diseases"
   ]
  },
  {
   "cell_type": "markdown",
   "metadata": {},
   "source": [
    "## Train"
   ]
  },
  {
   "cell_type": "code",
   "execution_count": 21,
   "metadata": {},
   "outputs": [
    {
     "name": "stdout",
     "output_type": "stream",
     "text": [
      "Using device:  cuda\n",
      "Loading train dataset...\n",
      "Loading val dataset...\n",
      "Run name:  2019-10-23_15-46-02_all\n",
      "Saved TB in:  /mnt/data/chest-x-ray-8/runs/debug/2019-10-23_15-46-02_all\n",
      "--------------------------------------------------\n",
      "Training...\n",
      "Finished epoch 1/1, loss 81.20822143554688 (val 83.4623031616211)\n",
      "Average time per epoch:  0h 0m 5s\n"
     ]
    }
   ],
   "source": [
    "model_run = train_model(base_dir=BASE_DIR,\n",
    "                        chosen_diseases=chosen_diseases,\n",
    "                        n_epochs=N_EPOCHS,\n",
    "                        batch_size=BATCH_SIZE,\n",
    "                        lr=learning_rate,\n",
    "                        moment=optimizer_moment,\n",
    "                        decay=weight_decay,\n",
    "                        reg=regularization,\n",
    "                        train_resnet=TRAIN_RESNET,\n",
    "                        image_format=\"RGB\",\n",
    "                        flush_secs=FLUSH_SECS,\n",
    "                        train_max_images=train_max_images,\n",
    "                        val_max_images=val_max_images,\n",
    "                        experiment_mode=\"debug\",\n",
    "                        save=False,\n",
    "                        write_graph=False,\n",
    "                        write_emb=True,\n",
    "                        write_emb_img=False,\n",
    "                       )"
   ]
  },
  {
   "cell_type": "code",
   "execution_count": 71,
   "metadata": {},
   "outputs": [
    {
     "data": {
      "text/plain": [
       "'2019-10-23-14-18-34_all'"
      ]
     },
     "execution_count": 71,
     "metadata": {},
     "output_type": "execute_result"
    }
   ],
   "source": [
    "model_run.run_name"
   ]
  },
  {
   "cell_type": "code",
   "execution_count": null,
   "metadata": {},
   "outputs": [],
   "source": []
  },
  {
   "cell_type": "code",
   "execution_count": null,
   "metadata": {},
   "outputs": [],
   "source": []
  },
  {
   "cell_type": "code",
   "execution_count": null,
   "metadata": {},
   "outputs": [],
   "source": []
  },
  {
   "cell_type": "code",
   "execution_count": null,
   "metadata": {},
   "outputs": [],
   "source": []
  },
  {
   "cell_type": "markdown",
   "metadata": {},
   "source": [
    "## Load model"
   ]
  },
  {
   "cell_type": "code",
   "execution_count": 9,
   "metadata": {},
   "outputs": [],
   "source": [
    "run_name = \"2019-10-23_15-58-07\""
   ]
  },
  {
   "cell_type": "code",
   "execution_count": 10,
   "metadata": {},
   "outputs": [],
   "source": [
    "model, _, chosen_diseases = load_model(BASE_DIR, run_name)\n",
    "model = model.to(device)"
   ]
  },
  {
   "cell_type": "code",
   "execution_count": 11,
   "metadata": {},
   "outputs": [],
   "source": [
    "_ = model.train(False)"
   ]
  },
  {
   "cell_type": "code",
   "execution_count": null,
   "metadata": {},
   "outputs": [],
   "source": []
  },
  {
   "cell_type": "code",
   "execution_count": null,
   "metadata": {},
   "outputs": [],
   "source": []
  },
  {
   "cell_type": "code",
   "execution_count": null,
   "metadata": {},
   "outputs": [],
   "source": []
  },
  {
   "cell_type": "code",
   "execution_count": null,
   "metadata": {},
   "outputs": [],
   "source": []
  },
  {
   "cell_type": "markdown",
   "metadata": {},
   "source": [
    "## Load data"
   ]
  },
  {
   "cell_type": "code",
   "execution_count": 12,
   "metadata": {},
   "outputs": [
    {
     "name": "stdout",
     "output_type": "stream",
     "text": [
      "CPU times: user 1min 33s, sys: 456 ms, total: 1min 33s\n",
      "Wall time: 1min 33s\n"
     ]
    },
    {
     "data": {
      "text/plain": [
       "(75714, 8)"
      ]
     },
     "execution_count": 12,
     "metadata": {},
     "output_type": "execute_result"
    }
   ],
   "source": [
    "%%time\n",
    "dataset, dataloader = prepare_data(DATASET_DIR, \"train\", chosen_diseases, BATCH_SIZE, max_images=None)\n",
    "n_images, n_diseases = dataset.size()\n",
    "n_images, n_diseases"
   ]
  },
  {
   "cell_type": "code",
   "execution_count": null,
   "metadata": {},
   "outputs": [],
   "source": []
  },
  {
   "cell_type": "code",
   "execution_count": null,
   "metadata": {},
   "outputs": [],
   "source": []
  },
  {
   "cell_type": "code",
   "execution_count": null,
   "metadata": {},
   "outputs": [],
   "source": []
  },
  {
   "cell_type": "code",
   "execution_count": null,
   "metadata": {},
   "outputs": [],
   "source": []
  },
  {
   "cell_type": "code",
   "execution_count": null,
   "metadata": {},
   "outputs": [],
   "source": []
  },
  {
   "cell_type": "code",
   "execution_count": null,
   "metadata": {},
   "outputs": [],
   "source": []
  },
  {
   "cell_type": "markdown",
   "metadata": {},
   "source": [
    "## Plot confusion matrices"
   ]
  },
  {
   "cell_type": "code",
   "execution_count": 42,
   "metadata": {},
   "outputs": [
    {
     "data": {
      "text/plain": [
       "(8, 2, 2)"
      ]
     },
     "execution_count": 42,
     "metadata": {},
     "output_type": "execute_result"
    }
   ],
   "source": [
    "val_cms = np.load(CMS_DIR + \"/\" + run_name + \"_val.npy\") # train, val or all\n",
    "val_cms.shape"
   ]
  },
  {
   "cell_type": "code",
   "execution_count": 43,
   "metadata": {},
   "outputs": [
    {
     "data": {
      "image/png": "[encoded data removed]",
      "text/plain": [
       "<Figure size 1296x1152 with 16 Axes>"
      ]
     },
     "metadata": {
      "needs_background": "light"
     },
     "output_type": "display_data"
    }
   ],
   "source": [
    "classes = [1, 0] # Positive, negative\n",
    "\n",
    "plt.figure(figsize=(18,16))\n",
    "plot_cms(cms, classes, chosen_diseases)"
   ]
  },
  {
   "cell_type": "code",
   "execution_count": null,
   "metadata": {},
   "outputs": [],
   "source": []
  },
  {
   "cell_type": "code",
   "execution_count": null,
   "metadata": {},
   "outputs": [],
   "source": []
  },
  {
   "cell_type": "markdown",
   "metadata": {},
   "source": [
    "## Add images"
   ]
  },
  {
   "cell_type": "code",
   "execution_count": 186,
   "metadata": {},
   "outputs": [],
   "source": [
    "def gen_image_with_bbox(image_name):\n",
    "    bboxes_found = []\n",
    "    bboxes_diseases = []\n",
    "\n",
    "    image, _, _, bboxes_raw, are_valid = train_dataset.get_by_name(image_name)\n",
    "\n",
    "    # Convert to batch\n",
    "    images = image.view(1, *image.shape)\n",
    "\n",
    "    # Image to GPU\n",
    "    images = images.to(device)\n",
    "\n",
    "    # Pass thru model\n",
    "    _, _, activations = model(images)\n",
    "\n",
    "    # Copy bbox\n",
    "    for disease_index, (bbox, is_valid) in enumerate(zip(bboxes_raw, are_valid)):\n",
    "        is_valid = bool(is_valid.item())\n",
    "        disease_name = TRAINED_WITH_DISEASES[disease_index]\n",
    "        if is_valid:\n",
    "            bboxes_found.append(bbox)\n",
    "            bboxes_diseases.append(disease_name)\n",
    "\n",
    "    return image, bboxes_found, bboxes_diseases"
   ]
  },
  {
   "cell_type": "code",
   "execution_count": 202,
   "metadata": {},
   "outputs": [
    {
     "data": {
      "text/plain": [
       "(torch.Size([3, 512, 512]), [], [])"
      ]
     },
     "execution_count": 202,
     "metadata": {},
     "output_type": "execute_result"
    }
   ],
   "source": [
    "image, bboxes_found, bboxes_diseases = gen_image_with_bbox(\"00000001_000.png\")\n",
    "image.size(), bboxes_found, bboxes_diseases"
   ]
  },
  {
   "cell_type": "code",
   "execution_count": null,
   "metadata": {},
   "outputs": [],
   "source": []
  },
  {
   "cell_type": "code",
   "execution_count": 181,
   "metadata": {},
   "outputs": [],
   "source": [
    "writer.add_images(\"test-images-2\", all_images[:10], global_step=N_EPOCHS)"
   ]
  },
  {
   "cell_type": "code",
   "execution_count": null,
   "metadata": {},
   "outputs": [],
   "source": []
  },
  {
   "cell_type": "markdown",
   "metadata": {},
   "source": [
    "## Plot activations"
   ]
  },
  {
   "cell_type": "code",
   "execution_count": 108,
   "metadata": {},
   "outputs": [
    {
     "data": {
      "text/plain": [
       "torch.Size([4, 3, 512, 512])"
      ]
     },
     "execution_count": 108,
     "metadata": {},
     "output_type": "execute_result"
    }
   ],
   "source": [
    "images, labels, _, _, _ = next(iter(train_dataloader))\n",
    "images = images.to(device)\n",
    "images.size()"
   ]
  },
  {
   "cell_type": "code",
   "execution_count": 109,
   "metadata": {},
   "outputs": [
    {
     "data": {
      "text/plain": [
       "torch.Size([4, 1, 16, 16])"
      ]
     },
     "execution_count": 109,
     "metadata": {},
     "output_type": "execute_result"
    }
   ],
   "source": [
    "pred, embedding, activation = model(images)\n",
    "activation.size()"
   ]
  },
  {
   "cell_type": "code",
   "execution_count": 114,
   "metadata": {},
   "outputs": [],
   "source": [
    "images = images.cpu()\n",
    "activation = activation.cpu()"
   ]
  },
  {
   "cell_type": "code",
   "execution_count": 111,
   "metadata": {},
   "outputs": [],
   "source": [
    "import matplotlib.pyplot as plt"
   ]
  },
  {
   "cell_type": "code",
   "execution_count": 112,
   "metadata": {},
   "outputs": [
    {
     "name": "stdout",
     "output_type": "stream",
     "text": [
      "Prediction:  0.0185812059789896\n",
      "Label:  0\n"
     ]
    },
    {
     "data": {
      "image/png": "[encoded data removed]",
      "text/plain": [
       "<Figure size 432x288 with 2 Axes>"
      ]
     },
     "metadata": {
      "needs_background": "light"
     },
     "output_type": "display_data"
    }
   ],
   "source": [
    "image_idx = 0\n",
    "\n",
    "prediction = pred[image_idx].item()\n",
    "label = labels[image_idx].item()\n",
    "\n",
    "plt.imshow(activation[image_idx][0], cmap=\"Blues\")\n",
    "plt.colorbar()\n",
    "\n",
    "print(\"Prediction: \", prediction)\n",
    "print(\"Label: \", label)"
   ]
  },
  {
   "cell_type": "code",
   "execution_count": 116,
   "metadata": {},
   "outputs": [
    {
     "data": {
      "text/plain": [
       "torch.Size([4, 3, 512, 512])"
      ]
     },
     "execution_count": 116,
     "metadata": {},
     "output_type": "execute_result"
    }
   ],
   "source": [
    "images.size()"
   ]
  },
  {
   "cell_type": "code",
   "execution_count": 126,
   "metadata": {},
   "outputs": [
    {
     "data": {
      "text/plain": [
       "<matplotlib.image.AxesImage at 0x7fec08105208>"
      ]
     },
     "execution_count": 126,
     "metadata": {},
     "output_type": "execute_result"
    },
    {
     "data": {
      "image/png": "[encoded data removed]",
      "text/plain": [
       "<Figure size 432x288 with 1 Axes>"
      ]
     },
     "metadata": {
      "needs_background": "light"
     },
     "output_type": "display_data"
    }
   ],
   "source": [
    "plt.imshow(images[image_idx][0], cmap=\"gray\")"
   ]
  },
  {
   "cell_type": "code",
   "execution_count": null,
   "metadata": {},
   "outputs": [],
   "source": []
  },
  {
   "cell_type": "code",
   "execution_count": null,
   "metadata": {},
   "outputs": [],
   "source": []
  },
  {
   "cell_type": "code",
   "execution_count": null,
   "metadata": {},
   "outputs": [],
   "source": []
  },
  {
   "cell_type": "code",
   "execution_count": null,
   "metadata": {},
   "outputs": [],
   "source": []
  },
  {
   "cell_type": "markdown",
   "metadata": {},
   "source": [
    "***\n",
    "***\n",
    "\n",
    "# Old"
   ]
  },
  {
   "cell_type": "code",
   "execution_count": 27,
   "metadata": {},
   "outputs": [],
   "source": [
    "# FIXME: this code is to calculate the loss of the bbox prediction,\n",
    "# though the metric should be different? don't use binary cross entropy?\n",
    "\n",
    "#     # Get valid bbox_list\n",
    "#     # REVIEW: make bbox_list a tensor? and then send to device? same on seg_list below\n",
    "#     bbox_list = []\n",
    "#     n_samples, n_labels = bbox_valids.size()\n",
    "#     for i in range(n_samples):\n",
    "#         bbox_list.append([])\n",
    "#         for j in range(n_labels):\n",
    "#             if bbox_valids[i][j] == 1:\n",
    "#                 bbox_list[i].append(bboxes[i][j])\n",
    "#         bbox_list[i] = torch.stack(bbox_list[i]).to(device)\n",
    "    \n",
    "    \n",
    "#     # Segmentation lists\n",
    "#     seg_list = []\n",
    "#     for i in range(n_samples):\n",
    "#         seg_list.append([])\n",
    "#         for j in range(n_labels):\n",
    "#             if bbox_valids[i][j] == 1:\n",
    "#                 seg_list[i].append(segments[i][j])\n",
    "#         seg_list[i] = torch.stack(seg_list[i]).to(device)\n",
    "    \n",
    "#     # Compute bbox loss\n",
    "#     for i in range(len(seg_list)):\n",
    "#         # REVIEW: do this with a tensor? avoid the loop\n",
    "#         loss += 5/(512*512) * weighted_cross_entropy(seg_list[i], bbox_list[i], weights=(10, 1))\n",
    "        \n",
    "#         break\n",
    "# #         print(seg_list[i].size())\n",
    "# #         print(bbox_list[i].size())\n",
    "# #         break"
   ]
  }
 ],
 "metadata": {
  "kernelspec": {
   "display_name": "Python 3",
   "language": "python",
   "name": "python3"
  },
  "language_info": {
   "codemirror_mode": {
    "name": "ipython",
    "version": 3
   },
   "file_extension": ".py",
   "mimetype": "text/x-python",
   "name": "python",
   "nbconvert_exporter": "python",
   "pygments_lexer": "ipython3",
   "version": "3.5.2"
  }
 },
 "nbformat": 4,
 "nbformat_minor": 2
}
