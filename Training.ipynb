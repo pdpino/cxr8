{
 "cells": [
  {
   "cell_type": "markdown",
   "metadata": {},
   "source": [
    "## Imports"
   ]
  },
  {
   "cell_type": "code",
   "execution_count": 1,
   "metadata": {},
   "outputs": [],
   "source": [
    "import torch\n",
    "# import torch.nn.functional as F\n",
    "import torch.optim as optim\n",
    "from torch.utils.data import DataLoader\n",
    "from torchvision import transforms\n",
    "\n",
    "from ignite.engine import Engine, Events\n",
    "from ignite.metrics import Accuracy, Precision, Recall, RunningAverage #, EpochMetric\n",
    "# from ignite.contrib.metrics import ROC_AUC\n",
    "\n",
    "# from sklearn.metrics import roc_auc_score\n",
    "import numpy as np\n",
    "import warnings\n",
    "\n",
    "# from torch.utils.tensorboard import SummaryWriter\n",
    "from tensorboardX import SummaryWriter\n",
    "import time\n",
    "# import os"
   ]
  },
  {
   "cell_type": "code",
   "execution_count": 2,
   "metadata": {},
   "outputs": [],
   "source": [
    "%run dataset.py"
   ]
  },
  {
   "cell_type": "code",
   "execution_count": 3,
   "metadata": {},
   "outputs": [],
   "source": [
    "%run model.py"
   ]
  },
  {
   "cell_type": "code",
   "execution_count": 4,
   "metadata": {},
   "outputs": [],
   "source": [
    "%run utils.py"
   ]
  },
  {
   "cell_type": "code",
   "execution_count": 5,
   "metadata": {},
   "outputs": [],
   "source": [
    "%run utilsT.py"
   ]
  },
  {
   "cell_type": "code",
   "execution_count": 6,
   "metadata": {},
   "outputs": [],
   "source": [
    "# FIXME: fix deprecations\n",
    "warnings.filterwarnings(\"ignore\", category=DeprecationWarning)\n",
    "warnings.filterwarnings(\"ignore\", category=UserWarning)"
   ]
  },
  {
   "cell_type": "code",
   "execution_count": 7,
   "metadata": {},
   "outputs": [
    {
     "data": {
      "text/plain": [
       "0"
      ]
     },
     "execution_count": 7,
     "metadata": {},
     "output_type": "execute_result"
    }
   ],
   "source": [
    "device = torch.device(\"cuda\" if torch.cuda.is_available() else \"cpu\")\n",
    "torch.cuda.current_device()"
   ]
  },
  {
   "cell_type": "code",
   "execution_count": 8,
   "metadata": {},
   "outputs": [
    {
     "name": "stdout",
     "output_type": "stream",
     "text": [
      "cuda\n"
     ]
    }
   ],
   "source": [
    "print(device)"
   ]
  },
  {
   "cell_type": "markdown",
   "metadata": {},
   "source": [
    "## Common"
   ]
  },
  {
   "cell_type": "code",
   "execution_count": 9,
   "metadata": {},
   "outputs": [],
   "source": [
    "# In server\n",
    "base_dir = '/mnt/data/chest-x-ray-8'"
   ]
  },
  {
   "cell_type": "code",
   "execution_count": 10,
   "metadata": {},
   "outputs": [],
   "source": [
    "model_save_dir = base_dir + '/savedModels'\n",
    "log_dir = base_dir + '/runs'\n",
    "dataset_dir = base_dir + '/dataset'"
   ]
  },
  {
   "cell_type": "markdown",
   "metadata": {},
   "source": [
    "## Loss"
   ]
  },
  {
   "cell_type": "code",
   "execution_count": 11,
   "metadata": {},
   "outputs": [],
   "source": [
    "def weighted_bce(output, target):\n",
    "    \"\"\"Computes weighted binary cross entropy loss.\n",
    "    \n",
    "    If a multi-label array is given, the BCE is summed across labels.\"\"\"\n",
    "    output = output.clamp(min=1e-5, max=1-1e-5)\n",
    "    target = target.float()\n",
    "\n",
    "    # Calculate weights\n",
    "    BP = 1\n",
    "    BN = 1\n",
    "\n",
    "    total = np.prod(target.size())\n",
    "    positive = int((target > 0).sum())\n",
    "    negative = total - positive\n",
    "\n",
    "    if positive != 0 and negative != 0:\n",
    "        BP = total / positive\n",
    "        BN = total / negative\n",
    "\n",
    "    loss = -BP * target * torch.log(output) - BN * (1 - target) * torch.log(1 - output)\n",
    "\n",
    "    return torch.sum(loss)"
   ]
  },
  {
   "cell_type": "markdown",
   "metadata": {},
   "source": [
    "## Transform functions"
   ]
  },
  {
   "cell_type": "code",
   "execution_count": 12,
   "metadata": {},
   "outputs": [],
   "source": [
    "mean = 0.50576189"
   ]
  },
  {
   "cell_type": "code",
   "execution_count": 13,
   "metadata": {},
   "outputs": [],
   "source": [
    "transform_image = transforms.Compose([transforms.Resize(512),\n",
    "                                      transforms.ToTensor(),\n",
    "                                      transforms.Normalize([mean], [1.])\n",
    "                                     ])"
   ]
  },
  {
   "cell_type": "markdown",
   "metadata": {},
   "source": [
    "## Train params"
   ]
  },
  {
   "cell_type": "code",
   "execution_count": 14,
   "metadata": {},
   "outputs": [],
   "source": [
    "BATCH_SIZE = 4\n",
    "N_EPOCHS = 100\n",
    "\n",
    "learning_rate = 1e-6\n",
    "optimizer_moment = 0.9\n",
    "weight_decay = 0\n",
    "regularization = 0"
   ]
  },
  {
   "cell_type": "markdown",
   "metadata": {},
   "source": [
    "## Data loading"
   ]
  },
  {
   "cell_type": "markdown",
   "metadata": {},
   "source": [
    "### Select only some diseases"
   ]
  },
  {
   "cell_type": "code",
   "execution_count": 15,
   "metadata": {},
   "outputs": [
    {
     "data": {
      "text/plain": [
       "['Infiltration']"
      ]
     },
     "execution_count": 15,
     "metadata": {},
     "output_type": "execute_result"
    }
   ],
   "source": [
    "chosen_diseases = [\"Infiltration\"] # list(ALL_DISEASES[:1])\n",
    "chosen_diseases"
   ]
  },
  {
   "cell_type": "markdown",
   "metadata": {},
   "source": [
    "### Training dataset"
   ]
  },
  {
   "cell_type": "code",
   "execution_count": 16,
   "metadata": {},
   "outputs": [
    {
     "data": {
      "text/plain": [
       "(45, 15)"
      ]
     },
     "execution_count": 16,
     "metadata": {},
     "output_type": "execute_result"
    }
   ],
   "source": [
    "train_dataset = CXRDataset(dataset_dir, transform=transform_image, diseases=chosen_diseases)\n",
    "train_dataset.size()"
   ]
  },
  {
   "cell_type": "code",
   "execution_count": 17,
   "metadata": {},
   "outputs": [],
   "source": [
    "train_dataloader = DataLoader(train_dataset, batch_size=BATCH_SIZE)"
   ]
  },
  {
   "cell_type": "code",
   "execution_count": 18,
   "metadata": {},
   "outputs": [
    {
     "data": {
      "text/plain": [
       "['Infiltration']"
      ]
     },
     "execution_count": 18,
     "metadata": {},
     "output_type": "execute_result"
    }
   ],
   "source": [
    "TRAINED_WITH_DISEASES = list(train_dataset.classes)\n",
    "TRAINED_WITH_DISEASES"
   ]
  },
  {
   "cell_type": "markdown",
   "metadata": {},
   "source": [
    "### Validation dataset"
   ]
  },
  {
   "cell_type": "code",
   "execution_count": 19,
   "metadata": {},
   "outputs": [
    {
     "data": {
      "text/plain": [
       "(14, 15)"
      ]
     },
     "execution_count": 19,
     "metadata": {},
     "output_type": "execute_result"
    }
   ],
   "source": [
    "val_dataset = CXRDataset(dataset_dir, dataset_type=\"val\", transform=transform_image, diseases=chosen_diseases)\n",
    "val_dataset.size()"
   ]
  },
  {
   "cell_type": "code",
   "execution_count": 20,
   "metadata": {},
   "outputs": [],
   "source": [
    "val_dataloader = DataLoader(val_dataset, batch_size=BATCH_SIZE)"
   ]
  },
  {
   "cell_type": "markdown",
   "metadata": {},
   "source": [
    "## Model"
   ]
  },
  {
   "cell_type": "code",
   "execution_count": 21,
   "metadata": {},
   "outputs": [],
   "source": [
    "model = Model().to(device)"
   ]
  },
  {
   "cell_type": "code",
   "execution_count": 22,
   "metadata": {},
   "outputs": [],
   "source": [
    "optimizer = optim.SGD(model.parameters(), lr=learning_rate, momentum=optimizer_moment, weight_decay=weight_decay)"
   ]
  },
  {
   "cell_type": "markdown",
   "metadata": {},
   "source": [
    "## Training"
   ]
  },
  {
   "cell_type": "markdown",
   "metadata": {},
   "source": [
    "### Step function"
   ]
  },
  {
   "cell_type": "code",
   "execution_count": 23,
   "metadata": {},
   "outputs": [],
   "source": [
    "def get_step_fn(training=True):\n",
    "    def step(engine, data_batch):\n",
    "        \"\"\".\"\"\"\n",
    "        # Input and sizes\n",
    "        images, labels, names, _, _ = data_batch\n",
    "        n_samples, n_labels = labels.size()\n",
    "\n",
    "        # Move tensors to GPU\n",
    "        images = images.to(device)\n",
    "        labels = labels.to(device)\n",
    "\n",
    "        # Enable training\n",
    "        model.train(training)\n",
    "        torch.set_grad_enabled(training) # enable recording gradients\n",
    "\n",
    "        # zero the parameter gradients\n",
    "        optimizer.zero_grad()\n",
    "\n",
    "        # Forward, receive outputs from the model and segments (bboxes)\n",
    "        outputs, segments = model(images)\n",
    "\n",
    "        # Compute classification loss\n",
    "        loss = weighted_bce(outputs, labels)\n",
    "\n",
    "        batch_loss = loss.item()\n",
    "        \n",
    "        if training:\n",
    "            loss.backward()\n",
    "            optimizer.step()\n",
    "\n",
    "        return batch_loss, outputs, labels\n",
    "    \n",
    "    return step"
   ]
  },
  {
   "cell_type": "markdown",
   "metadata": {},
   "source": [
    "### Train utils"
   ]
  },
  {
   "cell_type": "code",
   "execution_count": 24,
   "metadata": {},
   "outputs": [],
   "source": [
    "def get_transform_one_label(label_index, use_round=True):\n",
    "    def transform(output):\n",
    "        _, y_pred, y_true = output\n",
    "        y_pred = y_pred[:, label_index]\n",
    "        y_true = y_true[:, label_index]\n",
    "        \n",
    "        if use_round:\n",
    "            y_pred = torch.round(y_pred)\n",
    "\n",
    "        return y_pred, y_true\n",
    "    return transform"
   ]
  },
  {
   "cell_type": "code",
   "execution_count": 25,
   "metadata": {},
   "outputs": [],
   "source": [
    "def attach_metrics(engine, metric_name, MetricClass, use_round):\n",
    "    \"\"\"Attaches onemetric per label to an engine.\"\"\"\n",
    "    for index, disease in enumerate(TRAINED_WITH_DISEASES):\n",
    "        transform_disease = get_transform_one_label(index, use_round=use_round)\n",
    "\n",
    "        metric = MetricClass(output_transform=transform_disease)\n",
    "        metric.attach(engine, \"{}_{}\".format(metric_name, disease))"
   ]
  },
  {
   "cell_type": "markdown",
   "metadata": {},
   "source": [
    "### Train run"
   ]
  },
  {
   "cell_type": "code",
   "execution_count": 26,
   "metadata": {},
   "outputs": [],
   "source": [
    "log_metrics = [\"roc_auc\"]"
   ]
  },
  {
   "cell_type": "code",
   "execution_count": 27,
   "metadata": {},
   "outputs": [],
   "source": [
    "loss_name = \"wbce_loss\""
   ]
  },
  {
   "cell_type": "code",
   "execution_count": 28,
   "metadata": {},
   "outputs": [],
   "source": [
    "flush_secs = 10 # Use a low value when debugging"
   ]
  },
  {
   "cell_type": "code",
   "execution_count": 29,
   "metadata": {},
   "outputs": [
    {
     "name": "stdout",
     "output_type": "stream",
     "text": [
      "This run:  2019-09-28-23-31-31\n"
     ]
    }
   ],
   "source": [
    "run_timestamp = get_timestamp()\n",
    "\n",
    "run_name = run_timestamp # + \"_something\"\n",
    "print(\"This run: \", run_timestamp)\n",
    "\n",
    "writer = SummaryWriter(log_dir=base_dir + \"/runs/experiments/\" + run_name, flush_secs=flush_secs)"
   ]
  },
  {
   "cell_type": "markdown",
   "metadata": {},
   "source": [
    "### Validator engine"
   ]
  },
  {
   "cell_type": "code",
   "execution_count": 30,
   "metadata": {},
   "outputs": [],
   "source": [
    "validator = Engine(get_step_fn(False))"
   ]
  },
  {
   "cell_type": "code",
   "execution_count": 31,
   "metadata": {},
   "outputs": [],
   "source": [
    "avg_loss = RunningAverage(output_transform=lambda x: x[0], alpha=1)\n",
    "avg_loss.attach(validator, loss_name)"
   ]
  },
  {
   "cell_type": "code",
   "execution_count": 32,
   "metadata": {},
   "outputs": [],
   "source": [
    "attach_metrics(validator, \"prec\", Precision, True)\n",
    "attach_metrics(validator, \"recall\", Recall, True)\n",
    "attach_metrics(validator, \"acc\", Accuracy, True)\n",
    "attach_metrics(validator, \"roc_auc\", RocAucMetric, False)"
   ]
  },
  {
   "cell_type": "markdown",
   "metadata": {},
   "source": [
    "### Trainer engine"
   ]
  },
  {
   "cell_type": "code",
   "execution_count": 33,
   "metadata": {},
   "outputs": [],
   "source": [
    "trainer = Engine(get_step_fn(True))"
   ]
  },
  {
   "cell_type": "code",
   "execution_count": 34,
   "metadata": {},
   "outputs": [],
   "source": [
    "def write_results(run_type, metrics, epoch, wall_time):\n",
    "    loss = metrics.get(loss_name, 0)\n",
    "    \n",
    "    writer.add_scalar(\"Loss/\" + run_type, loss, epoch, wall_time)\n",
    "    \n",
    "    for metric_base_name in log_metrics:\n",
    "        for disease in TRAINED_WITH_DISEASES:\n",
    "            metric_value = metrics.get(\"{}_{}\".format(metric_base_name, disease), -1)\n",
    "            writer.add_scalar(\"{}_{}/{}\".format(metric_base_name, disease, run_type), metric_value, epoch, wall_time)"
   ]
  },
  {
   "cell_type": "code",
   "execution_count": 35,
   "metadata": {},
   "outputs": [],
   "source": [
    "@trainer.on(Events.EPOCH_COMPLETED)\n",
    "def log_results(trainer):\n",
    "    epoch = trainer.state.epoch\n",
    "    max_epochs = trainer.state.max_epochs\n",
    "    \n",
    "    # Run on evaluation\n",
    "    validator.run(val_dataloader, 1)\n",
    "    \n",
    "    # Log metrics\n",
    "    wall_time = time.time()\n",
    "    \n",
    "    write_results(\"train\", trainer.state.metrics, epoch, wall_time)\n",
    "    write_results(\"val\", validator.state.metrics, epoch, wall_time)\n",
    "    \n",
    "    train_loss = trainer.state.metrics.get(loss_name, 0)\n",
    "    val_loss = validator.state.metrics.get(loss_name, 0)\n",
    "    \n",
    "    print(\"Finished epoch {}/{}, loss {} (val {})\".format(epoch, max_epochs, train_loss, val_loss))"
   ]
  },
  {
   "cell_type": "code",
   "execution_count": 36,
   "metadata": {},
   "outputs": [],
   "source": [
    "avg_loss = RunningAverage(output_transform=lambda x: x[0], alpha=1)\n",
    "avg_loss.attach(trainer, loss_name)"
   ]
  },
  {
   "cell_type": "code",
   "execution_count": 37,
   "metadata": {},
   "outputs": [],
   "source": [
    "attach_metrics(trainer, \"acc\", Accuracy, True)\n",
    "attach_metrics(trainer, \"prec\", Precision, True)\n",
    "attach_metrics(trainer, \"recall\", Recall, True)\n",
    "attach_metrics(trainer, \"roc_auc\", RocAucMetric, False)"
   ]
  },
  {
   "cell_type": "markdown",
   "metadata": {},
   "source": [
    "## Train"
   ]
  },
  {
   "cell_type": "code",
   "execution_count": 38,
   "metadata": {},
   "outputs": [
    {
     "name": "stdout",
     "output_type": "stream",
     "text": [
      "Finished epoch 1/10, loss 22.10311508178711 (val 22.23708152770996)\n",
      "Finished epoch 2/10, loss 21.754119873046875 (val 22.12881851196289)\n",
      "Finished epoch 3/10, loss 22.06107521057129 (val 22.014162063598633)\n",
      "Finished epoch 4/10, loss 21.454994201660156 (val 21.79087257385254)\n",
      "Finished epoch 5/10, loss 21.158710479736328 (val 21.436138153076172)\n",
      "Finished epoch 6/10, loss 21.601560592651367 (val 21.173686981201172)\n",
      "Finished epoch 7/10, loss 20.78107261657715 (val 21.03730010986328)\n",
      "Finished epoch 8/10, loss 19.821331024169922 (val 20.71066665649414)\n",
      "Finished epoch 9/10, loss 20.337358474731445 (val 20.58563804626465)\n",
      "Finished epoch 10/10, loss 20.258663177490234 (val 20.3443603515625)\n",
      "CPU times: user 55.1 s, sys: 12.1 s, total: 1min 7s\n",
      "Wall time: 49.3 s\n"
     ]
    },
    {
     "data": {
      "text/plain": [
       "<ignite.engine.engine.State at 0x7fd8117aed30>"
      ]
     },
     "execution_count": 38,
     "metadata": {},
     "output_type": "execute_result"
    }
   ],
   "source": [
    "%%time\n",
    "# %%capture train_output\n",
    "trainer.run(train_dataloader, 10)"
   ]
  },
  {
   "cell_type": "code",
   "execution_count": 251,
   "metadata": {},
   "outputs": [
    {
     "name": "stdout",
     "output_type": "stream",
     "text": [
      "Finished epoch 1/3, loss 45.58734893798828 (val 44.312461853027344)\n",
      "Finished epoch 2/3, loss 44.71006774902344 (val 44.178382873535156)\n",
      "Finished epoch 3/3, loss 45.79662322998047 (val 43.93351745605469)\n"
     ]
    },
    {
     "data": {
      "text/plain": [
       "<ignite.engine.engine.State at 0x7fed9c0452e8>"
      ]
     },
     "metadata": {},
     "output_type": "display_data"
    }
   ],
   "source": [
    "train_output.show()"
   ]
  },
  {
   "cell_type": "markdown",
   "metadata": {},
   "source": [
    "### Write graph to Tensorboard (optional)"
   ]
  },
  {
   "cell_type": "code",
   "execution_count": 54,
   "metadata": {},
   "outputs": [
    {
     "data": {
      "text/plain": [
       "torch.Size([4, 1, 512, 512])"
      ]
     },
     "execution_count": 54,
     "metadata": {},
     "output_type": "execute_result"
    }
   ],
   "source": [
    "images = next(iter(train_dataloader))[0]\n",
    "images = images.to(device)\n",
    "images.size()"
   ]
  },
  {
   "cell_type": "code",
   "execution_count": 55,
   "metadata": {},
   "outputs": [],
   "source": [
    "writer.add_graph(model, images)"
   ]
  },
  {
   "cell_type": "markdown",
   "metadata": {},
   "source": [
    "### Close SummaryWriter"
   ]
  },
  {
   "cell_type": "code",
   "execution_count": 51,
   "metadata": {},
   "outputs": [],
   "source": [
    "writer.close()"
   ]
  },
  {
   "cell_type": "code",
   "execution_count": null,
   "metadata": {},
   "outputs": [],
   "source": []
  },
  {
   "cell_type": "code",
   "execution_count": null,
   "metadata": {},
   "outputs": [],
   "source": []
  },
  {
   "cell_type": "code",
   "execution_count": null,
   "metadata": {},
   "outputs": [],
   "source": []
  },
  {
   "cell_type": "code",
   "execution_count": 138,
   "metadata": {},
   "outputs": [
    {
     "data": {
      "text/html": [
       "<div>\n",
       "<style scoped>\n",
       "    .dataframe tbody tr th:only-of-type {\n",
       "        vertical-align: middle;\n",
       "    }\n",
       "\n",
       "    .dataframe tbody tr th {\n",
       "        vertical-align: top;\n",
       "    }\n",
       "\n",
       "    .dataframe thead th {\n",
       "        text-align: right;\n",
       "    }\n",
       "</style>\n",
       "<table border=\"1\" class=\"dataframe\">\n",
       "  <thead>\n",
       "    <tr style=\"text-align: right;\">\n",
       "      <th></th>\n",
       "      <th>FileName</th>\n",
       "      <th>Atelectasis</th>\n",
       "      <th>Cardiomegaly</th>\n",
       "      <th>Effusion</th>\n",
       "      <th>Infiltration</th>\n",
       "      <th>Mass</th>\n",
       "      <th>Nodule</th>\n",
       "      <th>Pneumonia</th>\n",
       "      <th>Pneumothorax</th>\n",
       "      <th>Consolidation</th>\n",
       "      <th>Edema</th>\n",
       "      <th>Emphysema</th>\n",
       "      <th>Fibrosis</th>\n",
       "      <th>Pleural_Thickening</th>\n",
       "      <th>Hernia</th>\n",
       "    </tr>\n",
       "  </thead>\n",
       "  <tbody>\n",
       "    <tr>\n",
       "      <th>0</th>\n",
       "      <td>00000011_000.png</td>\n",
       "      <td>0</td>\n",
       "      <td>0</td>\n",
       "      <td>1</td>\n",
       "      <td>0</td>\n",
       "      <td>0</td>\n",
       "      <td>0</td>\n",
       "      <td>0</td>\n",
       "      <td>0</td>\n",
       "      <td>0</td>\n",
       "      <td>0</td>\n",
       "      <td>0</td>\n",
       "      <td>0</td>\n",
       "      <td>0</td>\n",
       "      <td>0</td>\n",
       "    </tr>\n",
       "    <tr>\n",
       "      <th>1</th>\n",
       "      <td>00000011_001.png</td>\n",
       "      <td>0</td>\n",
       "      <td>0</td>\n",
       "      <td>0</td>\n",
       "      <td>0</td>\n",
       "      <td>0</td>\n",
       "      <td>0</td>\n",
       "      <td>0</td>\n",
       "      <td>0</td>\n",
       "      <td>0</td>\n",
       "      <td>0</td>\n",
       "      <td>0</td>\n",
       "      <td>0</td>\n",
       "      <td>0</td>\n",
       "      <td>0</td>\n",
       "    </tr>\n",
       "    <tr>\n",
       "      <th>2</th>\n",
       "      <td>00000011_002.png</td>\n",
       "      <td>0</td>\n",
       "      <td>0</td>\n",
       "      <td>0</td>\n",
       "      <td>0</td>\n",
       "      <td>0</td>\n",
       "      <td>0</td>\n",
       "      <td>0</td>\n",
       "      <td>0</td>\n",
       "      <td>0</td>\n",
       "      <td>0</td>\n",
       "      <td>0</td>\n",
       "      <td>0</td>\n",
       "      <td>0</td>\n",
       "      <td>0</td>\n",
       "    </tr>\n",
       "    <tr>\n",
       "      <th>3</th>\n",
       "      <td>00000011_003.png</td>\n",
       "      <td>0</td>\n",
       "      <td>0</td>\n",
       "      <td>0</td>\n",
       "      <td>0</td>\n",
       "      <td>0</td>\n",
       "      <td>0</td>\n",
       "      <td>0</td>\n",
       "      <td>0</td>\n",
       "      <td>0</td>\n",
       "      <td>0</td>\n",
       "      <td>0</td>\n",
       "      <td>0</td>\n",
       "      <td>0</td>\n",
       "      <td>0</td>\n",
       "    </tr>\n",
       "    <tr>\n",
       "      <th>4</th>\n",
       "      <td>00000011_004.png</td>\n",
       "      <td>0</td>\n",
       "      <td>0</td>\n",
       "      <td>0</td>\n",
       "      <td>0</td>\n",
       "      <td>0</td>\n",
       "      <td>0</td>\n",
       "      <td>0</td>\n",
       "      <td>0</td>\n",
       "      <td>0</td>\n",
       "      <td>0</td>\n",
       "      <td>0</td>\n",
       "      <td>0</td>\n",
       "      <td>0</td>\n",
       "      <td>0</td>\n",
       "    </tr>\n",
       "    <tr>\n",
       "      <th>5</th>\n",
       "      <td>00000011_005.png</td>\n",
       "      <td>0</td>\n",
       "      <td>0</td>\n",
       "      <td>0</td>\n",
       "      <td>1</td>\n",
       "      <td>0</td>\n",
       "      <td>0</td>\n",
       "      <td>0</td>\n",
       "      <td>0</td>\n",
       "      <td>0</td>\n",
       "      <td>0</td>\n",
       "      <td>0</td>\n",
       "      <td>0</td>\n",
       "      <td>0</td>\n",
       "      <td>0</td>\n",
       "    </tr>\n",
       "    <tr>\n",
       "      <th>6</th>\n",
       "      <td>00000011_006.png</td>\n",
       "      <td>1</td>\n",
       "      <td>0</td>\n",
       "      <td>0</td>\n",
       "      <td>0</td>\n",
       "      <td>0</td>\n",
       "      <td>0</td>\n",
       "      <td>0</td>\n",
       "      <td>0</td>\n",
       "      <td>0</td>\n",
       "      <td>0</td>\n",
       "      <td>0</td>\n",
       "      <td>0</td>\n",
       "      <td>0</td>\n",
       "      <td>0</td>\n",
       "    </tr>\n",
       "    <tr>\n",
       "      <th>7</th>\n",
       "      <td>00000011_007.png</td>\n",
       "      <td>0</td>\n",
       "      <td>0</td>\n",
       "      <td>0</td>\n",
       "      <td>1</td>\n",
       "      <td>0</td>\n",
       "      <td>0</td>\n",
       "      <td>0</td>\n",
       "      <td>0</td>\n",
       "      <td>0</td>\n",
       "      <td>0</td>\n",
       "      <td>0</td>\n",
       "      <td>0</td>\n",
       "      <td>0</td>\n",
       "      <td>0</td>\n",
       "    </tr>\n",
       "    <tr>\n",
       "      <th>8</th>\n",
       "      <td>00000011_008.png</td>\n",
       "      <td>0</td>\n",
       "      <td>0</td>\n",
       "      <td>0</td>\n",
       "      <td>0</td>\n",
       "      <td>0</td>\n",
       "      <td>0</td>\n",
       "      <td>0</td>\n",
       "      <td>0</td>\n",
       "      <td>0</td>\n",
       "      <td>0</td>\n",
       "      <td>0</td>\n",
       "      <td>0</td>\n",
       "      <td>0</td>\n",
       "      <td>0</td>\n",
       "    </tr>\n",
       "    <tr>\n",
       "      <th>9</th>\n",
       "      <td>00000016_000.png</td>\n",
       "      <td>0</td>\n",
       "      <td>0</td>\n",
       "      <td>0</td>\n",
       "      <td>0</td>\n",
       "      <td>0</td>\n",
       "      <td>0</td>\n",
       "      <td>0</td>\n",
       "      <td>0</td>\n",
       "      <td>0</td>\n",
       "      <td>0</td>\n",
       "      <td>0</td>\n",
       "      <td>0</td>\n",
       "      <td>0</td>\n",
       "      <td>0</td>\n",
       "    </tr>\n",
       "    <tr>\n",
       "      <th>10</th>\n",
       "      <td>00000020_000.png</td>\n",
       "      <td>0</td>\n",
       "      <td>0</td>\n",
       "      <td>0</td>\n",
       "      <td>0</td>\n",
       "      <td>0</td>\n",
       "      <td>0</td>\n",
       "      <td>0</td>\n",
       "      <td>0</td>\n",
       "      <td>0</td>\n",
       "      <td>0</td>\n",
       "      <td>0</td>\n",
       "      <td>0</td>\n",
       "      <td>1</td>\n",
       "      <td>0</td>\n",
       "    </tr>\n",
       "    <tr>\n",
       "      <th>11</th>\n",
       "      <td>00000020_001.png</td>\n",
       "      <td>0</td>\n",
       "      <td>0</td>\n",
       "      <td>0</td>\n",
       "      <td>1</td>\n",
       "      <td>0</td>\n",
       "      <td>0</td>\n",
       "      <td>0</td>\n",
       "      <td>0</td>\n",
       "      <td>0</td>\n",
       "      <td>0</td>\n",
       "      <td>0</td>\n",
       "      <td>1</td>\n",
       "      <td>0</td>\n",
       "      <td>0</td>\n",
       "    </tr>\n",
       "    <tr>\n",
       "      <th>12</th>\n",
       "      <td>00000020_002.png</td>\n",
       "      <td>0</td>\n",
       "      <td>0</td>\n",
       "      <td>0</td>\n",
       "      <td>1</td>\n",
       "      <td>0</td>\n",
       "      <td>0</td>\n",
       "      <td>0</td>\n",
       "      <td>0</td>\n",
       "      <td>0</td>\n",
       "      <td>0</td>\n",
       "      <td>0</td>\n",
       "      <td>1</td>\n",
       "      <td>1</td>\n",
       "      <td>0</td>\n",
       "    </tr>\n",
       "    <tr>\n",
       "      <th>13</th>\n",
       "      <td>00000026_000.png</td>\n",
       "      <td>0</td>\n",
       "      <td>0</td>\n",
       "      <td>0</td>\n",
       "      <td>1</td>\n",
       "      <td>0</td>\n",
       "      <td>0</td>\n",
       "      <td>0</td>\n",
       "      <td>0</td>\n",
       "      <td>0</td>\n",
       "      <td>0</td>\n",
       "      <td>0</td>\n",
       "      <td>0</td>\n",
       "      <td>0</td>\n",
       "      <td>0</td>\n",
       "    </tr>\n",
       "  </tbody>\n",
       "</table>\n",
       "</div>"
      ],
      "text/plain": [
       "            FileName  Atelectasis  Cardiomegaly  Effusion  Infiltration  Mass  \\\n",
       "0   00000011_000.png            0             0         1             0     0   \n",
       "1   00000011_001.png            0             0         0             0     0   \n",
       "2   00000011_002.png            0             0         0             0     0   \n",
       "3   00000011_003.png            0             0         0             0     0   \n",
       "4   00000011_004.png            0             0         0             0     0   \n",
       "5   00000011_005.png            0             0         0             1     0   \n",
       "6   00000011_006.png            1             0         0             0     0   \n",
       "7   00000011_007.png            0             0         0             1     0   \n",
       "8   00000011_008.png            0             0         0             0     0   \n",
       "9   00000016_000.png            0             0         0             0     0   \n",
       "10  00000020_000.png            0             0         0             0     0   \n",
       "11  00000020_001.png            0             0         0             1     0   \n",
       "12  00000020_002.png            0             0         0             1     0   \n",
       "13  00000026_000.png            0             0         0             1     0   \n",
       "\n",
       "    Nodule  Pneumonia  Pneumothorax  Consolidation  Edema  Emphysema  \\\n",
       "0        0          0             0              0      0          0   \n",
       "1        0          0             0              0      0          0   \n",
       "2        0          0             0              0      0          0   \n",
       "3        0          0             0              0      0          0   \n",
       "4        0          0             0              0      0          0   \n",
       "5        0          0             0              0      0          0   \n",
       "6        0          0             0              0      0          0   \n",
       "7        0          0             0              0      0          0   \n",
       "8        0          0             0              0      0          0   \n",
       "9        0          0             0              0      0          0   \n",
       "10       0          0             0              0      0          0   \n",
       "11       0          0             0              0      0          0   \n",
       "12       0          0             0              0      0          0   \n",
       "13       0          0             0              0      0          0   \n",
       "\n",
       "    Fibrosis  Pleural_Thickening  Hernia  \n",
       "0          0                   0       0  \n",
       "1          0                   0       0  \n",
       "2          0                   0       0  \n",
       "3          0                   0       0  \n",
       "4          0                   0       0  \n",
       "5          0                   0       0  \n",
       "6          0                   0       0  \n",
       "7          0                   0       0  \n",
       "8          0                   0       0  \n",
       "9          0                   0       0  \n",
       "10         0                   1       0  \n",
       "11         1                   0       0  \n",
       "12         1                   1       0  \n",
       "13         0                   0       0  "
      ]
     },
     "execution_count": 138,
     "metadata": {},
     "output_type": "execute_result"
    }
   ],
   "source": [
    "val_dataset.label_index"
   ]
  },
  {
   "cell_type": "code",
   "execution_count": null,
   "metadata": {},
   "outputs": [],
   "source": []
  },
  {
   "cell_type": "code",
   "execution_count": null,
   "metadata": {},
   "outputs": [],
   "source": []
  },
  {
   "cell_type": "code",
   "execution_count": null,
   "metadata": {},
   "outputs": [],
   "source": []
  },
  {
   "cell_type": "markdown",
   "metadata": {},
   "source": [
    "***\n",
    "***\n",
    "\n",
    "# Old"
   ]
  },
  {
   "cell_type": "code",
   "execution_count": 27,
   "metadata": {},
   "outputs": [],
   "source": [
    "# FIXME: this code is to calculate the loss of the bbox prediction,\n",
    "# though the metric should be different? don't use binary cross entropy?\n",
    "\n",
    "#     # Get valid bbox_list\n",
    "#     # REVIEW: make bbox_list a tensor? and then send to device? same on seg_list below\n",
    "#     bbox_list = []\n",
    "#     n_samples, n_labels = bbox_valids.size()\n",
    "#     for i in range(n_samples):\n",
    "#         bbox_list.append([])\n",
    "#         for j in range(n_labels):\n",
    "#             if bbox_valids[i][j] == 1:\n",
    "#                 bbox_list[i].append(bboxes[i][j])\n",
    "#         bbox_list[i] = torch.stack(bbox_list[i]).to(device)\n",
    "    \n",
    "    \n",
    "#     # Segmentation lists\n",
    "#     seg_list = []\n",
    "#     for i in range(n_samples):\n",
    "#         seg_list.append([])\n",
    "#         for j in range(n_labels):\n",
    "#             if bbox_valids[i][j] == 1:\n",
    "#                 seg_list[i].append(segments[i][j])\n",
    "#         seg_list[i] = torch.stack(seg_list[i]).to(device)\n",
    "    \n",
    "#     # Compute bbox loss\n",
    "#     for i in range(len(seg_list)):\n",
    "#         # REVIEW: do this with a tensor? avoid the loop\n",
    "#         loss += 5/(512*512) * weighted_cross_entropy(seg_list[i], bbox_list[i], weights=(10, 1))\n",
    "        \n",
    "#         break\n",
    "# #         print(seg_list[i].size())\n",
    "# #         print(bbox_list[i].size())\n",
    "# #         break"
   ]
  },
  {
   "cell_type": "code",
   "execution_count": 20,
   "metadata": {},
   "outputs": [],
   "source": [
    "def train_iteration(model, data_batch, training=True):\n",
    "    \"\"\".\"\"\"\n",
    "    # Input and sizes\n",
    "    images, labels, names, _, _ = data_batch\n",
    "    n_samples, n_labels = labels.size()\n",
    "    \n",
    "    # Move tensors to GPU\n",
    "    images = images.to(device)\n",
    "    labels = labels.to(device)\n",
    "\n",
    "    # Enable training\n",
    "    model.train(training)\n",
    "    torch.set_grad_enabled(training) # enable recording gradients\n",
    "    \n",
    "    # zero the parameter gradients\n",
    "    optimizer.zero_grad()\n",
    "\n",
    "    # Forward, receive outputs from the model and segments (bboxes)\n",
    "    outputs, segments = model(images)\n",
    "    \n",
    "    # Compute classification loss\n",
    "    loss = weighted_bce(outputs, labels)\n",
    "    \n",
    "    batch_loss = loss.item()\n",
    "    if training:\n",
    "        loss.backward()\n",
    "        optimizer.step()\n",
    "\n",
    "    return batch_loss"
   ]
  },
  {
   "cell_type": "code",
   "execution_count": 21,
   "metadata": {},
   "outputs": [],
   "source": [
    "def train(dataloader, n_epochs=N_EPOCHS, training=True):\n",
    "    for i_epoch in range(n_epochs):\n",
    "\n",
    "        training_loss = 0.0\n",
    "\n",
    "        for i_batch, data in enumerate(dataloader):\n",
    "            batch_loss = train_iteration(model, data, training=training)\n",
    "            \n",
    "            training_loss += batch_loss\n",
    "\n",
    "        print(i_epoch, training_loss)"
   ]
  },
  {
   "cell_type": "code",
   "execution_count": 24,
   "metadata": {},
   "outputs": [
    {
     "name": "stdout",
     "output_type": "stream",
     "text": [
      "0 497.5148229598999\n",
      "1 487.6466898918152\n",
      "2 474.2359209060669\n",
      "3 477.64395093917847\n",
      "4 477.08784341812134\n"
     ]
    }
   ],
   "source": [
    "train(train_dataloader, n_epochs=5)"
   ]
  }
 ],
 "metadata": {
  "kernelspec": {
   "display_name": "Python 3",
   "language": "python",
   "name": "python3"
  },
  "language_info": {
   "codemirror_mode": {
    "name": "ipython",
    "version": 3
   },
   "file_extension": ".py",
   "mimetype": "text/x-python",
   "name": "python",
   "nbconvert_exporter": "python",
   "pygments_lexer": "ipython3",
   "version": "3.5.2"
  }
 },
 "nbformat": 4,
 "nbformat_minor": 2
}
